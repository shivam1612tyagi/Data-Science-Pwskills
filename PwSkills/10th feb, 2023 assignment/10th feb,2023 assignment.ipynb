{
 "cells": [
  {
   "cell_type": "markdown",
   "id": "9528fbcd",
   "metadata": {},
   "source": [
    "# 10th feb,2023 assignment --------------------------------- Shivam Tyagi"
   ]
  },
  {
   "cell_type": "markdown",
   "id": "9dfc796b",
   "metadata": {},
   "source": [
    "Which function is used to open a file ?\n",
    "What are the different modes of opening a file?\n",
    "Explain each mode of file opening."
   ]
  },
  {
   "cell_type": "code",
   "execution_count": null,
   "id": "9224221c",
   "metadata": {},
   "outputs": [],
   "source": [
    "answer:\n",
    "\n",
    "The built-in Python function used to open a file is 'open()'.\n",
    "The 'open()' function takes two parameters: The nem of the file, and the mode in which you want to open the file.The mode specifies how you want to use the file(read,write etc)and what you want to do if the file already exists or if the file doesn't exist.\n",
    "The different modes of opening a file are:\n",
    "1.'r'(read only) - This is the default mode.It opens the file for reading,and an error is raised if the file doesn;t exist.\n",
    "2.'w'(Write only) - This mode opens the file writing.If the file already exists,its content is truncated(i.e-deleted).If the \n",
    "   file doesn't exist, a new file is created.\n",
    "3.'a'(Append only) - This opens the file for writing,but it appends the new data to the end of the file instead of overwriting \n",
    "   its content.If the file doesn't exist a new file is created.\n",
    "4. 'x'(Exclusive Creation) - This mode is similar to 'w',but it opens the file only if it doesn't already exist.If the file \n",
    "    exists,an error is raised.\n",
    "5.'b'(Binary')-This mode is used to open the file in binary mode.It can be combined with any of the modes above(e.g - 'rb' for\n",
    "   binary read-only mode, 'wb' for binary write-only mode)\n",
    "6. 't'(Text)- This mode is used to open the file in text mode.It can be combined with any of the modes above(e.g- 'rt' for text\n",
    "    read-only mode, 'wt' for text write-only mode)     \n"
   ]
  },
  {
   "cell_type": "markdown",
   "id": "3e32491e",
   "metadata": {},
   "source": [
    "2.Why close() function is used? Why is it important to close a file?\n"
   ]
  },
  {
   "cell_type": "code",
   "execution_count": null,
   "id": "1b0dab66",
   "metadata": {},
   "outputs": [],
   "source": [
    "answer:\n",
    "The 'close' function is used to close a file that was previously opened with the 'open()' function.\n",
    "It's important to close a file after you're done with it several reasons:\n",
    "1.Releasing system resources: When you open a file,your operating system allocates system resources(such as memory and disk\n",
    "  space) to handle the file.If you don't close the file,these resources won't be freed until your program terminates.\n",
    "    \n",
    "2.Flushing buffered data:When you write to a file,the data is often buffered in memory before its actually written to disk.\n",
    "  This can improve performance,but it also means that the data may not be immediately written to disk even if you close your \n",
    "  program.Closing the file explicitly flushes any remaining buffered data,ensuring that it's written to disk.\n",
    "    \n",
    "3.Preventing data corruption: If you don't close a file after writing to it,there a risk that data may become corrupted if your\n",
    "  program terminates before the data is flushed.Closing the file explicitely ensures that the data is written to disk and \n",
    "  reduces the risk of corruption.\n",
    "    \n",
    "4.Improving program robustness:Failing to close a file can lead to unpredictable behaviour and bugs in your program.Closing the\n",
    "  file explicitly makes it clear when yor're done with the file and helps prevent bugs.\n",
    "        \n",
    "Its good to practice to close a file after you're done."
   ]
  },
  {
   "cell_type": "markdown",
   "id": "415a3b8c",
   "metadata": {},
   "source": [
    "Write a python program to create atext file.Write 'I want to become a Data Scientist'in that file.Then close the file.Open this file and read content of the file.\n",
    "\n"
   ]
  },
  {
   "cell_type": "code",
   "execution_count": null,
   "id": "a2055708",
   "metadata": {},
   "outputs": [],
   "source": [
    "# open the file in write mode\n",
    "file = open(\"My_file.txt\", \"w\")\n",
    "#write to the file\n",
    "file.write(\"I want to become a Data Scientist\")\n",
    "#close the file\n",
    "file.close()\n",
    "#open the file in read mode\n",
    "file = open(\"my_file.text\", \"r\") \n",
    "content = file.read()\n",
    "# Read the content of the file\n",
    "content = file.read()\n",
    "#print the content of the file\n",
    "print(content)\n",
    "#close the file\n",
    "file.close()\n"
   ]
  },
  {
   "cell_type": "code",
   "execution_count": null,
   "id": "89157c22",
   "metadata": {},
   "outputs": [],
   "source": [
    "This code will create a file named'my_file.txt'in the current directory,write the specified text to it,close the file,and then\n",
    "reopen the file in read mode,read its content and print it.\n",
    "    "
   ]
  },
  {
   "cell_type": "markdown",
   "id": "04f47331",
   "metadata": {},
   "source": [
    "4.Explain the following with python code:read(),readline() and readlines()."
   ]
  },
  {
   "cell_type": "code",
   "execution_count": null,
   "id": "0331ea65",
   "metadata": {},
   "outputs": [],
   "source": [
    "In python 'read()' method reads the entire contents of the file and returns it as a single string.\n",
    "For example:\n",
    "#open the file in read mode\n",
    "file = open(\"my_file.txt\", \"r\")\n",
    "#print the content of the file\n",
    "print(content)\n",
    "#close the file\n",
    "file.close()"
   ]
  },
  {
   "cell_type": "code",
   "execution_count": null,
   "id": "622da34c",
   "metadata": {},
   "outputs": [],
   "source": [
    "2.'readline()'-The 'readline()' method reads a single line from a file and returns it as astring.\n",
    "    \n",
    "For example:\n",
    "        \n",
    "#open the file in read mode\n",
    "file = open(\"myfile.txt\", \"r\")\n",
    "        \n",
    "#read the first lineline of the file\n",
    "fist_line = file.readline()\n",
    "        \n",
    "#print the first line of the file\n",
    "print(first_line)\n",
    "        \n",
    "#close the file\n",
    "file.close()"
   ]
  },
  {
   "cell_type": "code",
   "execution_count": null,
   "id": "42c5c26d",
   "metadata": {},
   "outputs": [],
   "source": [
    "3.'readlines()' -The 'readlines()' method reads all the lines of a file and returns them as alist of strings\n",
    "    \n",
    "For example:\n",
    "#open the file in read mode\n",
    "file = open(\"my_file.txt\", \"r\")\n",
    "                \n",
    "#Read all the lines of the file\n",
    "lines = file.readlines()\n",
    "                \n",
    "#print all the lines of the file\n",
    "for lines in lines:\n",
    "    print(line)\n",
    "                    \n",
    "#close the file\n",
    "file.close()"
   ]
  },
  {
   "cell_type": "markdown",
   "id": "232f2d41",
   "metadata": {},
   "source": [
    "5.Explain why with statement is used with open().What is the advantage of using with statement and open() together.\n"
   ]
  },
  {
   "cell_type": "code",
   "execution_count": null,
   "id": "410afdb2",
   "metadata": {},
   "outputs": [],
   "source": [
    "The 'with'statement is used in the 'open()'function,you need to reminder to close the file when you're done with it,otherwise you risk leaving the file open and potentially losing data.The 'with' statement provides a covenient way to ensure that the file is closed automatically,even if an exception is raised during the processing of the file.\n",
    "For example:\n",
    "with open(\"my_file.txt\",\"r\") as file:\n",
    "    content = file.read()\n",
    "    print(content)\n",
    "\n",
    "Advantages-\n",
    "It eliminates that risk of forgetting to close the file,Which can result in data loss or corruption.\n",
    "\n",
    "By automatically closing the file when its no longer needed,the 'with'statement ensures that the file is closed correctly and \n",
    "that the operating system's resources are properly released,even if an exception is raised during the processing of the file.\n",
    "        \n",
    "In short,using the'with' statement with the'open()' function is good practice that makes your code more readable,\n",
    "less error-prone, and more robust,by automatically closing the file when its no longer needed."
   ]
  },
  {
   "cell_type": "markdown",
   "id": "533f2705",
   "metadata": {},
   "source": [
    "6.Explain the write() and writelines()functions.Give a suitable example."
   ]
  },
  {
   "cell_type": "code",
   "execution_count": null,
   "id": "deeafab6",
   "metadata": {},
   "outputs": [],
   "source": [
    "1.'write()'- The 'write()' function writes string to a file.\n",
    "For example:\n",
    "                 \n",
    "#open the file in write mode\n",
    "file = open(\"my_file.txt\", \"w\")\n",
    "            \n",
    "#write to the file\n",
    "file.write(\"I want to become a Data Scientist\")\n",
    "            \n",
    "#close the file\n",
    "file.close()"
   ]
  },
  {
   "cell_type": "code",
   "execution_count": null,
   "id": "7087939b",
   "metadata": {},
   "outputs": [],
   "source": [
    "2.'writelines()'- The 'writelines()' function writes a list of string to a file.\n",
    "for example:\n",
    "        \n",
    "#open the file in write mode\n",
    "file = open(\"my_file.txt\", \"w\")\n",
    "        \n",
    "#write a list of string to the file\n",
    "lines = [\"Line 1\", \"Line 2\" , \"Line 3\"]\n",
    "file.writelines(lines)\n",
    "        \n",
    "#close the file\n",
    "file.close()"
   ]
  },
  {
   "cell_type": "markdown",
   "id": "77f3554d",
   "metadata": {},
   "source": [
    "# Name: Shivam Tyagi"
   ]
  },
  {
   "cell_type": "markdown",
   "id": "cb47940e",
   "metadata": {},
   "source": [
    "# E-mail:shivam1612tyagi@gmail.com"
   ]
  },
  {
   "cell_type": "markdown",
   "id": "97f9d9a2",
   "metadata": {},
   "source": [
    "# Thank you!!"
   ]
  },
  {
   "cell_type": "code",
   "execution_count": null,
   "id": "67a879ff",
   "metadata": {},
   "outputs": [],
   "source": []
  }
 ],
 "metadata": {
  "kernelspec": {
   "display_name": "Python 3 (ipykernel)",
   "language": "python",
   "name": "python3"
  },
  "language_info": {
   "codemirror_mode": {
    "name": "ipython",
    "version": 3
   },
   "file_extension": ".py",
   "mimetype": "text/x-python",
   "name": "python",
   "nbconvert_exporter": "python",
   "pygments_lexer": "ipython3",
   "version": "3.9.7"
  }
 },
 "nbformat": 4,
 "nbformat_minor": 5
}
