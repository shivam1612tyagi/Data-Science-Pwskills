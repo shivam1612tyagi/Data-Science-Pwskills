{
 "cells": [
  {
   "cell_type": "markdown",
   "id": "82eccf59",
   "metadata": {},
   "source": [
    "# 12th feb,2023 assignment ------------------------------------------- Shivam Tyagi"
   ]
  },
  {
   "cell_type": "markdown",
   "id": "70153c3f",
   "metadata": {},
   "source": [
    "Q1. Wht is an Exception in python? Write the difference between Exceptionsnd and syntax errors?\n"
   ]
  },
  {
   "cell_type": "code",
   "execution_count": null,
   "id": "de2f8915",
   "metadata": {},
   "outputs": [],
   "source": [
    "Exceptions: Exceptions are raised when the program is syntactically correct, but the code resulted in an error. \n",
    "            This error does not stop the execution of the program, however, it changes the normal flow of the program.\n",
    "Syntax Error: As the name suggests this error is caused by the wrong syntax in the code. It leads to the termination of the \n",
    "              program.\n",
    "Syntax Error is an absolute error by the developer where as Exception can work in developer system but not in user system"
   ]
  },
  {
   "cell_type": "markdown",
   "id": "f319247f",
   "metadata": {},
   "source": [
    "what happen when exception was not handled? explain with example"
   ]
  },
  {
   "cell_type": "code",
   "execution_count": null,
   "id": "87580ba3",
   "metadata": {},
   "outputs": [],
   "source": [
    "Answer:\n",
    "    \n",
    "If exception is not handelled then next code which is written in next line of python also will not run and entire file will be \n",
    "stopped."
   ]
  },
  {
   "cell_type": "code",
   "execution_count": 2,
   "id": "960b85df",
   "metadata": {},
   "outputs": [
    {
     "ename": "ZeroDivisionError",
     "evalue": "division by zero",
     "output_type": "error",
     "traceback": [
      "\u001b[1;31m---------------------------------------------------------------------------\u001b[0m",
      "\u001b[1;31mZeroDivisionError\u001b[0m                         Traceback (most recent call last)",
      "\u001b[1;32m~\\AppData\\Local\\Temp/ipykernel_4916/2372728928.py\u001b[0m in \u001b[0;36m<module>\u001b[1;34m\u001b[0m\n\u001b[1;32m----> 1\u001b[1;33m \u001b[0mprint\u001b[0m\u001b[1;33m(\u001b[0m\u001b[1;36m1\u001b[0m\u001b[1;33m/\u001b[0m\u001b[1;36m0\u001b[0m\u001b[1;33m)\u001b[0m\u001b[1;33m\u001b[0m\u001b[1;33m\u001b[0m\u001b[0m\n\u001b[0m\u001b[0;32m      2\u001b[0m \u001b[0mprint\u001b[0m\u001b[1;33m(\u001b[0m\u001b[1;34m\"hehehehhehe\"\u001b[0m\u001b[1;33m)\u001b[0m\u001b[1;33m\u001b[0m\u001b[1;33m\u001b[0m\u001b[0m\n",
      "\u001b[1;31mZeroDivisionError\u001b[0m: division by zero"
     ]
    }
   ],
   "source": [
    "print(1/0)\n",
    "print(\"hehehehhehe\")"
   ]
  },
  {
   "cell_type": "markdown",
   "id": "2a15a61c",
   "metadata": {},
   "source": [
    "which python statement are used to catch and handle exception?explain with an example"
   ]
  },
  {
   "cell_type": "code",
   "execution_count": null,
   "id": "3c52e0b8",
   "metadata": {},
   "outputs": [],
   "source": [
    "Answer:\n",
    "    \n",
    "The try and except block in Python is used to catch and handle exceptions."
   ]
  },
  {
   "cell_type": "code",
   "execution_count": 3,
   "id": "430b25b1",
   "metadata": {},
   "outputs": [
    {
     "name": "stdout",
     "output_type": "stream",
     "text": [
      "This is Except Block:::  Division By Zero\n"
     ]
    }
   ],
   "source": [
    "try:# try for error \n",
    "    1/0\n",
    "except Exception as e: # if such error comes send it to except block\n",
    "    print(\"This is Except Block::: \", str(e).title())"
   ]
  },
  {
   "cell_type": "markdown",
   "id": "85237c3b",
   "metadata": {},
   "source": [
    "expalin with an example:\n",
    "    a. try and else\n",
    "    b. finally\n",
    "    c.raise\n",
    "    "
   ]
  },
  {
   "cell_type": "code",
   "execution_count": null,
   "id": "e79a52e6",
   "metadata": {},
   "outputs": [],
   "source": [
    "answer:\n",
    "    \n",
    "There are 4 blocks :\n",
    "i. try\n",
    "try for error\n",
    "ii. except\n",
    "if error comes it will come to except block\n",
    "iii. else\n",
    "if try block executed without any error then else will be excuted for residual code, else will not excecuted if try fails\n",
    "iv. finally\n",
    "it will be excuted at any situation"
   ]
  },
  {
   "cell_type": "code",
   "execution_count": 4,
   "id": "55def8d0",
   "metadata": {},
   "outputs": [
    {
     "name": "stdout",
     "output_type": "stream",
     "text": [
      "This is Except Block:::  division by zero\n"
     ]
    }
   ],
   "source": [
    "#a)try-except example\n",
    "try:# try for error \n",
    "    1/0\n",
    "except Exception as e: # if such error comes send it to except block\n",
    "    print(\"This is Except Block::: \", e)"
   ]
  },
  {
   "cell_type": "code",
   "execution_count": 5,
   "id": "9b9b4148",
   "metadata": {},
   "outputs": [
    {
     "name": "stdout",
     "output_type": "stream",
     "text": [
      "[0, 1.0, 0.5, 0.333, 0.25, 0.2, 0.167, 0.143, 0.125, 0.111]\n",
      "\n",
      "Eception Handeled\n"
     ]
    }
   ],
   "source": [
    "# b)else:\n",
    "\n",
    "try:\n",
    "    a=[]\n",
    "    for i in range(0,10):\n",
    "        if i<=0:\n",
    "            a.append(0)  # we have not printed the list a here \n",
    "            \n",
    "        else: \n",
    "            a.append(round(1/i,3)) \n",
    "                        \n",
    "except Exception as e:\n",
    "    print (str(e).capitalize())\n",
    "else:\n",
    "    print(a)\n",
    "    print()\n",
    "    print('Eception Handeled')"
   ]
  },
  {
   "cell_type": "code",
   "execution_count": 7,
   "id": "442d665f",
   "metadata": {},
   "outputs": [
    {
     "name": "stdout",
     "output_type": "stream",
     "text": [
      "There is a bug of : Division By Zero\n",
      "\n",
      "FINALLY \n"
     ]
    }
   ],
   "source": [
    "#c) finally \n",
    "\n",
    "try:\n",
    "    a=[]\n",
    "    for i in range(0,10):\n",
    "        \n",
    "            a.append(1/i)\n",
    "    \n",
    "except Exception as e:\n",
    "    print (f'There is a bug of : {str(e).title()}')\n",
    "else:\n",
    "    print(a)\n",
    "    print()\n",
    "    print('Eception Handeled')\n",
    "    \n",
    "    \n",
    "finally:\n",
    "    print()\n",
    "    print(\"FINALLY \") # it will be excecuted at any situation"
   ]
  },
  {
   "cell_type": "markdown",
   "id": "ddcab715",
   "metadata": {},
   "source": [
    "What are Custom Ex,eptions in python? What do we need Custom Exceptions? Explain with an example"
   ]
  },
  {
   "cell_type": "code",
   "execution_count": null,
   "id": "7916ca06",
   "metadata": {},
   "outputs": [],
   "source": [
    "Custome Exception Handeling\n",
    "Some time we need to raise custome msg for exception when system does not have the exception msg or the exception itself\n",
    "We need customised exception handelling because\n",
    "\n",
    "For those exception which system does not count as an exception we need to raise customized msg in this time we need customised \n",
    "exception handelling."
   ]
  },
  {
   "cell_type": "code",
   "execution_count": 8,
   "id": "8c8849e4",
   "metadata": {},
   "outputs": [
    {
     "name": "stdout",
     "output_type": "stream",
     "text": [
      "ENTER YOUR AGE::::-3\n",
      "-3\n"
     ]
    }
   ],
   "source": [
    "# according to python the value for age is fine but not for you\n",
    "age= int(input(\"ENTER YOUR AGE::::\")) \n",
    "print(age)"
   ]
  },
  {
   "cell_type": "markdown",
   "id": "00beea95",
   "metadata": {},
   "source": [
    "create a custom exception class. use this class to handle an exception."
   ]
  },
  {
   "cell_type": "code",
   "execution_count": 9,
   "id": "5c5d2ee1",
   "metadata": {},
   "outputs": [
    {
     "name": "stdout",
     "output_type": "stream",
     "text": [
      "ENTER YOUR AGE::::111\n",
      "This is a Valid Age  111\n",
      "\n",
      "Your age  will be double to 222 in next 111 years\n"
     ]
    }
   ],
   "source": [
    "class Validateage(Exception): # the subclass where super class is Exception\n",
    "    def __init__(self, msg):  \n",
    "        self.msg=msg\n",
    "\n",
    "    \n",
    "    \n",
    "# make and function to raise error\n",
    "\n",
    "def validateage(age):\n",
    "    if age<0:\n",
    "        raise Validateage(f\"Age can't be Negative {age} \")\n",
    "    elif age>=200:\n",
    "        raise Validateage(f\"Age can't be too heigh  {age}\")\n",
    "    else:\n",
    "        print(f\"This is a Valid Age  {age}\")\n",
    "        \n",
    "        \n",
    "        \n",
    "        \n",
    "# Custome Exception Handelling\n",
    "\n",
    "try:\n",
    "    age= int(input(\"ENTER YOUR AGE::::\"))\n",
    "    validateage(age)\n",
    "\n",
    "except Validateage as v:\n",
    "    print(\"There is a Bug as:::::\", v)\n",
    "else:\n",
    "    print()\n",
    "    age1=age*2\n",
    "    print(f\"Your age  will be double to {age1} in next {age} years\")"
   ]
  },
  {
   "cell_type": "markdown",
   "id": "7318a743",
   "metadata": {},
   "source": [
    "# Name: Shivam Tyagi"
   ]
  },
  {
   "cell_type": "markdown",
   "id": "7cf6b3fc",
   "metadata": {},
   "source": [
    "# E-mail:shivam1612tygai@gmail.com"
   ]
  },
  {
   "cell_type": "markdown",
   "id": "d3ee5a34",
   "metadata": {},
   "source": [
    "# Thank you!!"
   ]
  },
  {
   "cell_type": "code",
   "execution_count": null,
   "id": "ebb02d10",
   "metadata": {},
   "outputs": [],
   "source": []
  }
 ],
 "metadata": {
  "kernelspec": {
   "display_name": "Python 3 (ipykernel)",
   "language": "python",
   "name": "python3"
  },
  "language_info": {
   "codemirror_mode": {
    "name": "ipython",
    "version": 3
   },
   "file_extension": ".py",
   "mimetype": "text/x-python",
   "name": "python",
   "nbconvert_exporter": "python",
   "pygments_lexer": "ipython3",
   "version": "3.9.7"
  }
 },
 "nbformat": 4,
 "nbformat_minor": 5
}
