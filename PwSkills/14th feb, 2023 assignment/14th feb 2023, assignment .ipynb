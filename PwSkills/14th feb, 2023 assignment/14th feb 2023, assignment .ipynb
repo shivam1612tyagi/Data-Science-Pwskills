{
 "cells": [
  {
   "cell_type": "markdown",
   "id": "a2c0c577",
   "metadata": {},
   "source": [
    "# 14th feb, 2023 Assignment ----------------------------------- Shivam Tyagi"
   ]
  },
  {
   "cell_type": "markdown",
   "id": "56402167",
   "metadata": {},
   "source": [
    "1. what is multithreading in python? hy is it used? Name the module used to handle threads in python.\n"
   ]
  },
  {
   "cell_type": "code",
   "execution_count": null,
   "id": "b305dd0f",
   "metadata": {},
   "outputs": [],
   "source": [
    "answer:\n",
    "\n",
    "1. We can do multithreading in Python that is, executing multiple parts of the program at a time using the threading module.\n",
    "2. It helps to optimize the resource utiliztaion maily the time and helps to utilise a core to run multiple process in same time\n",
    "3. threading is the name for the module"
   ]
  },
  {
   "cell_type": "code",
   "execution_count": 1,
   "id": "9f90b658",
   "metadata": {},
   "outputs": [],
   "source": [
    "import threading"
   ]
  },
  {
   "cell_type": "markdown",
   "id": "f3c92fd1",
   "metadata": {},
   "source": [
    "2. why threading module used? rite the use of the following functions\n",
    "    a. activeCount()\n",
    "    b. currentThread()\n",
    "    c. enumerate()"
   ]
  },
  {
   "cell_type": "code",
   "execution_count": null,
   "id": "e92d69a0",
   "metadata": {},
   "outputs": [],
   "source": [
    "Threading helps to optimize the resource utiliztaion maily the time and helps to utilise a core to run multiple process in same\n",
    "time.\n",
    "\n",
    "active_count() is an inbuilt method of the threading module in Python. It is used to return the number of Thread objects that \n",
    "are active at any instant.\n",
    "\n",
    "current_thread() is an inbuilt method of the threading module in Python. It is used to return the current Thread object, which \n",
    "corresponds to the caller's thread of control.\n",
    "\n",
    "when dealing with iterators, we also get need to keep a count of iterations. Python eases the programmers’ task by providing a \n",
    "built-in function enumerate() for this task. Enumerate() method adds a counter to an iterable and returns it in a form of \n",
    "enumerating object. This enumerated object can then be used directly for loops or converted into a list of tuples using the \n",
    "list() function."
   ]
  },
  {
   "cell_type": "markdown",
   "id": "6a1922aa",
   "metadata": {},
   "source": [
    "3. Explain the following functions\n",
    "    a. run()\n",
    "    b.start()\n",
    "    c.join()\n",
    "    d.alive()"
   ]
  },
  {
   "cell_type": "code",
   "execution_count": null,
   "id": "0a88db8a",
   "metadata": {},
   "outputs": [],
   "source": [
    "answer:\n",
    "    \n",
    "run() − The run() method is the entry point for a thread.\n",
    "start() − The start() method starts a thread by calling the run method.\n",
    "join([time]) − The join() waits for threads to terminate.\n",
    "isAlive() − The isAlive() method checks whether a thread is still executing."
   ]
  },
  {
   "cell_type": "markdown",
   "id": "d6193a56",
   "metadata": {},
   "source": [
    "4.write a python program to create two threads. Thread one must print the list of squares and thread two must print the list of cubes.\n"
   ]
  },
  {
   "cell_type": "code",
   "execution_count": 2,
   "id": "5713582d",
   "metadata": {},
   "outputs": [
    {
     "name": "stdout",
     "output_type": "stream",
     "text": [
      "Square: 100\n",
      "Cube: 1000\n"
     ]
    }
   ],
   "source": [
    " \n",
    "def print_cube(num):\n",
    "    # function to print cube of given num\n",
    "    print(\"Cube: {}\" .format(num * num * num))\n",
    " \n",
    " \n",
    "def print_square(num):\n",
    "    # function to print square of given num\n",
    "    print(\"Square: {}\" .format(num * num))\n",
    " \n",
    " \n",
    "if __name__ ==\"__main__\":\n",
    "    # creating thread\n",
    "    t1 = threading.Thread(target=print_square, args=(10,))\n",
    "    t2 = threading.Thread(target=print_cube, args=(10,))\n",
    " \n",
    "    # starting thread 1\n",
    "    t1.start()\n",
    "    # starting thread 2\n",
    "    t2.start()\n",
    " \n",
    "    # wait until thread 1 is completely executed\n",
    "    t1.join()\n",
    "    # wait until thread 2 is completely executed\n",
    "    t2.join()"
   ]
  },
  {
   "cell_type": "markdown",
   "id": "b5a3f115",
   "metadata": {},
   "source": [
    "5. State advantages and disadvantages of multithreading"
   ]
  },
  {
   "cell_type": "code",
   "execution_count": null,
   "id": "8c0220b2",
   "metadata": {},
   "outputs": [],
   "source": [
    "answer:\n",
    "    \n",
    "Advantage:\n",
    "a) Optimum useage of resourese\n",
    "b) Decrease the maintainance cost\n",
    "c) Helps to perform complex task\n",
    "\n",
    "Disadvantages:\n",
    "a) Complex debugging and testing process\n",
    "b) Complex coding\n",
    "c) Unpredictable Result"
   ]
  },
  {
   "cell_type": "markdown",
   "id": "2e2a49d3",
   "metadata": {},
   "source": [
    "Explain deadlocks and race conditions"
   ]
  },
  {
   "cell_type": "code",
   "execution_count": null,
   "id": "cb4d2b8b",
   "metadata": {},
   "outputs": [],
   "source": [
    "deadlock:-\n",
    "a)Two threads hold locks on different resources, each waiting indefinitely for the other to release its lock.\n",
    "b)When two processes are waiting for each other directly or indirectly, it is called deadlock.\n",
    "This usually occurs when two processes are waiting for shared resources acquired by others. \n",
    "\n",
    "For example, \n",
    "If thread T1 acquired resource R1 and it also needs resource R2 for it to accomplish its task. But the resource R2 is acquired \n",
    "by thread T2 which is waiting for resource R1(which is acquired by T1).. Neither of them will be able to accomplish its task, \n",
    "as they keep waiting for the other resources they need.\n",
    "    \n",
    "    \n",
    "race condition:- \n",
    "a) Two (or more) threads alter the state of a shared resource concurrently, leaving it in an unpredictable state.\n",
    "b)When two processes are competing with each other causing data corruption.\n",
    "\n",
    "For example, \n",
    "if two processes/threads are trying to execute the following conditions simultaneously, they cause data corruption:\n",
    "\n",
    "Thread 1:\n",
    "total = num1 + num2\n",
    "\n",
    "Thread 2:\n",
    "total = num1 - num2\n",
    "\n",
    "It is very common for the race conditions to go unnoticed during testing even after multiple tests and code reviews. \n",
    "But in production, there would be a lot of processes and threads working parallelly and compete for the same resources, and \n",
    "this problem would occur."
   ]
  },
  {
   "cell_type": "markdown",
   "id": "819543a1",
   "metadata": {},
   "source": [
    "# Name:Shivam Tyagi"
   ]
  },
  {
   "cell_type": "markdown",
   "id": "8552434d",
   "metadata": {},
   "source": [
    "# E-mail:shivam1612tyagi@gmail.com"
   ]
  },
  {
   "cell_type": "markdown",
   "id": "711d94fe",
   "metadata": {},
   "source": [
    "# Thank you!!"
   ]
  },
  {
   "cell_type": "code",
   "execution_count": null,
   "id": "661ecce9",
   "metadata": {},
   "outputs": [],
   "source": []
  }
 ],
 "metadata": {
  "kernelspec": {
   "display_name": "Python 3 (ipykernel)",
   "language": "python",
   "name": "python3"
  },
  "language_info": {
   "codemirror_mode": {
    "name": "ipython",
    "version": 3
   },
   "file_extension": ".py",
   "mimetype": "text/x-python",
   "name": "python",
   "nbconvert_exporter": "python",
   "pygments_lexer": "ipython3",
   "version": "3.9.7"
  }
 },
 "nbformat": 4,
 "nbformat_minor": 5
}
