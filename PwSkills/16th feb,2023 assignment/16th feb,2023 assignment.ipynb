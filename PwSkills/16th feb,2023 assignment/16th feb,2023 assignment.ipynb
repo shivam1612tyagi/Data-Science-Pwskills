{
 "cells": [
  {
   "cell_type": "markdown",
   "id": "faf8957b",
   "metadata": {},
   "source": [
    "# 16th feb, 2023 Assignment ------------------------------------ Shivam Tyagi"
   ]
  },
  {
   "cell_type": "markdown",
   "id": "e148c4f9",
   "metadata": {},
   "source": [
    "Q1. What is a database? Differentiate between SQL and NoSQL databases."
   ]
  },
  {
   "cell_type": "code",
   "execution_count": null,
   "id": "4f4e413c",
   "metadata": {},
   "outputs": [],
   "source": [
    "answer:\n",
    "    \n",
    "a database is an organized collection of data stored and accessed electronically. Small databases can be stored on a \n",
    "file system, while large databases are hosted on computer clusters or cloud storage.\n",
    "\n",
    "\n",
    "SQL:\n",
    "\n",
    "1. RELATIONAL DATABASE MANAGEMENT SYSTEM (RDBMS)\n",
    "2. These databases have fixed or static or predefined schema.\n",
    "3. These databases are not suited for hierarchical data storage.\n",
    "4. These databases are best suited for complex queries.\n",
    "5. Vertically Scalable.\n",
    "\n",
    "NoSQL:\n",
    "    \n",
    "1. Non-relational or distributed database system.\n",
    "2. They have dynamic schema.\n",
    "3. These databases are best suited for hierarchical data storage.\n",
    "4. These databases are not so good for complex queries.\n",
    "5. Horizontally scalable.\n"
   ]
  },
  {
   "cell_type": "markdown",
   "id": "f6bd0ba5",
   "metadata": {},
   "source": [
    "Q2. What is DDL? Explain why CREATE, DROP, ALTER, and TRUNCATE are used with an example."
   ]
  },
  {
   "cell_type": "code",
   "execution_count": null,
   "id": "d591066a",
   "metadata": {},
   "outputs": [],
   "source": [
    "answer:\n",
    "    \n",
    "1. DDL statements are similar to a computer programming language for defining data structures, especially database \n",
    "    schemas.\n",
    "2. It simply deals with descriptions of the database schema and is used to create and modify the structure of database \n",
    "   objects in the database.\n",
    "3. DDL is a set of SQL commands used to create, modify, and delete database structures but not data. \n",
    "\n",
    "CREATE: This command is used to create the database or its objects (like table, index, function, views, store \n",
    "        procedure, and triggers).\n",
    "    \n",
    "example:\n",
    "     CREATE TABLE Subject\n",
    "(\n",
    "Sub_ID INT, \n",
    "Sub_Name varchar(20)\n",
    ");\n",
    "\n",
    "\n",
    "DROP: This command is used to delete objects from the database.\n",
    "    \n",
    "example:\n",
    "    drop table subject\n",
    "    \n",
    "ALTER: This is used to alter the structure of the database.\n",
    "    \n",
    "example:\n",
    "    ALTER TABLE subject MODIFY Sub_ID int;\n",
    "\n",
    "TRUNCATE: This is used to remove all records from a table, including all spaces allocated for the records are removed.\n",
    "    \n",
    "example:\n",
    "    TRUNCATE TABLE  subject;"
   ]
  },
  {
   "cell_type": "markdown",
   "id": "d02728a8",
   "metadata": {},
   "source": [
    "Q3. What is DML? Explain INSERT, UPDATE, and DELETE with an example."
   ]
  },
  {
   "cell_type": "code",
   "execution_count": null,
   "id": "658bd587",
   "metadata": {},
   "outputs": [],
   "source": [
    "The SQL commands that deals with the manipulation of data present in the database belong to DML or Data Manipulation \n",
    "Language and this includes most of the SQL statements.\n",
    "\n",
    "INSERT:The INSERT INTO statement of SQL is used to insert a new row in a table.\n",
    "\n",
    "EXAMPLE:\n",
    "    INSERT INTO Student VALUES (‘5′,’HARSH’,’WEST BENGAL’,’XXXXXXXXXX’,’19’);\n",
    "\n",
    "UPDATE:The UPDATE statement in SQL is used to update the data of an existing table in database.\n",
    "    \n",
    "EXAMPLE:\n",
    "    UPDATE Student SET NAME = 'PRATIK' WHERE Age = 20;\n",
    "\n",
    "DELETE:The DELETE Statement in SQL is used to delete existing records from a table. \n",
    "    \n",
    "EXAMPLE:\n",
    "   DELETE FROM Student WHERE NAME = 'Ram'; "
   ]
  },
  {
   "cell_type": "markdown",
   "id": "fcf23be7",
   "metadata": {},
   "source": [
    "Q4. What is DQL? Explain SELECT with an example."
   ]
  },
  {
   "cell_type": "code",
   "execution_count": null,
   "id": "c48a0f50",
   "metadata": {},
   "outputs": [],
   "source": [
    "1. DQL statements are used for performing queries on the data within schema objects. \n",
    "2. The purpose of the DQL Command is to get some schema relation based on the query passed to it. \n",
    "3. We can define DQL as follows it is a component of SQL statement that allows getting data from the database and \n",
    "   imposing order upon it. It includes the SELECT statement. \n",
    "\n",
    "EXAMPLE:\n",
    "    SELECT * FROM STUDENT;"
   ]
  },
  {
   "cell_type": "markdown",
   "id": "635db074",
   "metadata": {},
   "source": [
    "Q5. Explain Primary Key and Foreign Key."
   ]
  },
  {
   "cell_type": "code",
   "execution_count": null,
   "id": "7b07112e",
   "metadata": {},
   "outputs": [],
   "source": [
    "primary key:\n",
    "\n",
    "1. A primary key is used to ensure data in the specific column is unique.\n",
    "2. It uniquely identifies a record in the relational database table.\n",
    "3. Only one primary key is allowed in a table.\n",
    "4. It is a combination of UNIQUE and Not Null constraints.\n",
    "5. It does not allow NULL values.\n",
    "\n",
    "Foregin key:\n",
    "\n",
    "1. A foreign key is a column or group of columns in a relational database table that provides a link between data in \n",
    "   two tables.\n",
    "2. It refers to the field in a table which is the primary key of another table.\n",
    "3. Whereas more than one foreign key are allowed in a table.\n",
    "4. It can contain duplicate values and a table in a relational database.\n",
    "5. It can also contain NULL values."
   ]
  },
  {
   "cell_type": "markdown",
   "id": "616509a7",
   "metadata": {},
   "source": [
    "Q6. Write a python code to connect MySQL to python. Explain the cursor() and execute() method."
   ]
  },
  {
   "cell_type": "code",
   "execution_count": 2,
   "id": "b4357c6b",
   "metadata": {},
   "outputs": [
    {
     "name": "stdout",
     "output_type": "stream",
     "text": [
      "<mysql.connector.connection.MySQLConnection object at 0x7f949956b520>\n",
      "('information_schema',)\n",
      "('leetcode',)\n",
      "('mysql',)\n",
      "('performance_schema',)\n",
      "('sys',)\n",
      "('test2',)\n"
     ]
    }
   ],
   "source": [
    "import mysql.connector\n",
    "mydb=mysql.connector.connect(\n",
    "    host=\"localhost\",\n",
    "    user=\"root\",\n",
    "    password=\"Reyansh@123\"\n",
    ")\n",
    "print(mydb)\n",
    "mycursor=mydb.cursor()\n",
    "mycursor.execute(\"SHOW DATABASES\")\n",
    "for x in mycursor:\n",
    "    print(x)"
   ]
  },
  {
   "cell_type": "code",
   "execution_count": null,
   "id": "1d0f1372",
   "metadata": {},
   "outputs": [],
   "source": [
    "A cursor keeps track of the position in the result set, and allows you to perform multiple operations row by row \n",
    "against a result set, with or without returning to the original table.\n",
    "\n",
    "execute method executes the given database operation (query or command). The parameters found in the tuple or \n",
    "dictionary params are bound to the variables in the operation."
   ]
  },
  {
   "cell_type": "markdown",
   "id": "71a53d68",
   "metadata": {},
   "source": [
    "Q7. Give the order of execution of SQL clauses in an SQL query."
   ]
  },
  {
   "cell_type": "code",
   "execution_count": null,
   "id": "5c077155",
   "metadata": {},
   "outputs": [],
   "source": [
    "The order in which the clauses in queries are executed is as follows:\n",
    "\n",
    "1. FROM/JOIN: The FROM and/or JOIN clauses are executed first to determine the data of interest.\n",
    "\n",
    "2. WHERE: The WHERE clause is executed to filter out records that do not meet the constraints.\n",
    "\n",
    "3. GROUP BY: The GROUP BY clause is executed to group the data based on the values in one or more columns.\n",
    "\n",
    "4. HAVING: The HAVING clause is executed to remove the created grouped records that don’t meet the constraints.\n",
    "\n",
    "5. SELECT: The SELECT clause is executed to derive all desired columns and expressions.\n",
    "\n",
    "6. ORDER BY: The ORDER BY clause is executed to sort the derived values in ascending or descending order.\n",
    "\n",
    "7. LIMIT/OFFSET: Finally, the LIMIT and/or OFFSET clauses are executed to keep or skip a specified number of rows."
   ]
  },
  {
   "cell_type": "markdown",
   "id": "b8e52526",
   "metadata": {},
   "source": [
    "# Name: Shivam Tyagi"
   ]
  },
  {
   "cell_type": "markdown",
   "id": "cfbfc18a",
   "metadata": {},
   "source": [
    "# E-mail: shivam1612tyagi@gmail.com"
   ]
  },
  {
   "cell_type": "markdown",
   "id": "e064ac15",
   "metadata": {},
   "source": [
    "# Thank You!!"
   ]
  },
  {
   "cell_type": "code",
   "execution_count": null,
   "id": "5efb4fe4",
   "metadata": {},
   "outputs": [],
   "source": []
  }
 ],
 "metadata": {
  "kernelspec": {
   "display_name": "Python 3 (ipykernel)",
   "language": "python",
   "name": "python3"
  },
  "language_info": {
   "codemirror_mode": {
    "name": "ipython",
    "version": 3
   },
   "file_extension": ".py",
   "mimetype": "text/x-python",
   "name": "python",
   "nbconvert_exporter": "python",
   "pygments_lexer": "ipython3",
   "version": "3.9.12"
  }
 },
 "nbformat": 4,
 "nbformat_minor": 5
}
