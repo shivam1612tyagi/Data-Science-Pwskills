{
 "cells": [
  {
   "cell_type": "code",
   "execution_count": null,
   "id": "24869a67",
   "metadata": {},
   "outputs": [],
   "source": [
    "17th feb,2023 Assignment ----------------------------------------------- Shivam Tyagi"
   ]
  },
  {
   "cell_type": "markdown",
   "id": "9a1208d0",
   "metadata": {},
   "source": [
    "Q1. What is MongoDB? Explain non-relational databases in short. In which scenarios it is preferred to use\n",
    "MongoDB over SQL databases?"
   ]
  },
  {
   "cell_type": "code",
   "execution_count": null,
   "id": "72ccdfc4",
   "metadata": {},
   "outputs": [],
   "source": [
    "MongoDB is a popular document-based NoSQL database that is designed to be highly scalable and flexible. It is an open-source \n",
    "database that stores data in a document format using JSON-like documents with dynamic schemas, which means that fields can vary\n",
    "from document to document.\n",
    "\n",
    "Non-relational databases, also known as NoSQL databases, differ from traditional relational databases in that they do not use a\n",
    "tabular structure to store data. Instead, they use different data models like document-based, key-value, graph, or column-family\n",
    "to store data. This makes NoSQL databases more flexible and scalable, especially for handling large volumes of unstructured or\n",
    "semi-structured data, which is difficult to store in the structured format of relational databases.\n",
    "\n",
    "MongoDB is often preferred over SQL databases in scenarios where there is a need for:\n",
    "\n",
    "1.Flexibility: MongoDB allows developers to work with semi-structured and unstructured data easily, which makes it more flexible than SQL databases, where the data must be modeled into a strict schema.\n",
    "\n",
    "2.Scalability: MongoDB is designed to scale out horizontally, which makes it easy to scale up to handle large amounts of data or traffic.\n",
    "\n",
    "3.Performance: MongoDB can provide better performance than SQL databases, especially for read-intensive workloads or when dealing with large datasets.\n",
    "\n",
    "4.High availability: MongoDB provides features like replica sets and sharding, which helps to ensure high availability and prevent data loss.\n",
    "\n",
    "5.Real-time analytics: MongoDB can provide real-time analytics on large datasets, which can be helpful for businesses that need to make data-driven decisions quickly.\n",
    "\n",
    "In summary, MongoDB is a popular NoSQL database that is preferred in scenarios where there is a need for flexibility, scalability, performance, high availability, and real-time analytics.\n"
   ]
  },
  {
   "cell_type": "markdown",
   "id": "27691174",
   "metadata": {},
   "source": [
    "Q2. State and Explain the features of MongoDB."
   ]
  },
  {
   "cell_type": "code",
   "execution_count": null,
   "id": "427410f2",
   "metadata": {},
   "outputs": [],
   "source": [
    "MongoDB is a popular document-oriented NoSQL database that offers several features that set it apart from traditional relational databases. Some of the key features of MongoDB include:\n",
    "\n",
    "1.Flexible data model: MongoDB is a document-oriented database, which means that data is stored in flexible JSON-like documents. This makes it easy to store and query complex hierarchical data structures.\n",
    "\n",
    "2.Scale-out architecture: MongoDB supports horizontal scaling, which means that it can easily scale out across multiple servers or nodes. This makes it easy to handle large volumes of data and high levels of traffic.\n",
    "\n",
    "3.Indexing: MongoDB supports secondary indexes, which can be used to improve query performance. It also supports a variety of index types, including single-field, multi-field, and geospatial indexes.\n",
    "\n",
    "4.Aggregation framework: MongoDB has a powerful aggregation framework that allows you to perform complex data processing on your collections.\n",
    "\n",
    "5.Ad hoc queries: MongoDB supports ad hoc queries, which means that you can query your data without having to define a schema or structure beforehand. This makes it easy to work with dynamic and evolving data.\n",
    "\n",
    "6.Automatic sharding: MongoDB can automatically partition your data across multiple servers or nodes, which makes it easy to handle large volumes of data.\n",
    "\n",
    "7.Replication and high availability: MongoDB supports automatic replication, which means that you can easily create redundant copies of your data. This provides high availability and helps ensure that your application remains up and running in the event of a failure.\n"
   ]
  },
  {
   "cell_type": "markdown",
   "id": "08543449",
   "metadata": {},
   "source": [
    "Q3. Write a code to connect MongoDB to Python. Also, create a database and a collection in MongoDB."
   ]
  },
  {
   "cell_type": "code",
   "execution_count": null,
   "id": "181fcd18",
   "metadata": {},
   "outputs": [],
   "source": [
    "import pymongo\n",
    "\n",
    "# Connect to MongoDB server\n",
    "client = pymongo.MongoClient(\"mongodb://localhost:27017/\")\n",
    "\n",
    "# Create a database\n",
    "mydb = client[\"mydatabase\"]\n",
    "\n",
    "# Create a collection\n",
    "mycol = mydb[\"customers\"]"
   ]
  },
  {
   "cell_type": "markdown",
   "id": "6b0e4887",
   "metadata": {},
   "source": [
    "Q4. Using the database and the collection created in question number 3, write a code to insert one record,\n",
    "and insert many records. Use the find() and find_one() methods to print the inserted record."
   ]
  },
  {
   "cell_type": "code",
   "execution_count": null,
   "id": "823ba96e",
   "metadata": {},
   "outputs": [],
   "source": [
    "import pymongo\n",
    "\n",
    "# establish a connection to the MongoDB server\n",
    "client = pymongo.MongoClient('mongodb://localhost:27017/')\n",
    "\n",
    "# create a database and a collection\n",
    "mydb = client['mydatabase']\n",
    "mycol = mydb['customers']\n",
    "\n",
    "# insert one record\n",
    "mydict = {'name': 'John', 'address': 'Highway 37'}\n",
    "result = mycol.insert_one(mydict)\n",
    "print(f\"Inserted record with ID: {result.inserted_id}\")\n",
    "\n",
    "# insert many records\n",
    "mylist = [\n",
    "  {'name': 'Peter', 'address': 'Lowstreet 27'},\n",
    "  {'name': 'Amy', 'address': 'Apple st 652'},\n",
    "  {'name': 'Hannah', 'address': 'Mountain 21'},\n",
    "  {'name': 'Michael', 'address': 'Valley 345'},\n",
    "  {'name': 'Sandy', 'address': 'Ocean blvd 2'},\n",
    "  {'name': 'Betty', 'address': 'Green Grass 1'},\n",
    "  {'name': 'Richard', 'address': 'Sky st 331'},\n",
    "  {'name': 'Susan', 'address': 'One way 98'},\n",
    "  {'name': 'Vicky', 'address': 'Yellow Garden 2'},\n",
    "  {'name': 'Ben', 'address': 'Park Lane 38'},\n",
    "  {'name': 'William', 'address': 'Central st 954'},\n",
    "  {'name': 'Chuck', 'address': 'Main Road 989'},\n",
    "  {'name': 'Viola', 'address': 'Sideway 1633'}\n",
    "]\n",
    "result = mycol.insert_many(mylist)\n",
    "print(f\"Inserted {len(result.inserted_ids)} records\")\n",
    "\n",
    "# find and print the inserted records\n",
    "print(\"Inserted records:\")\n",
    "for doc in mycol.find():\n",
    "    print(doc)\n",
    "\n",
    "# find and print the first inserted record\n",
    "print(\"First inserted record:\")\n",
    "print(mycol.find_one({\"_id\": result.inserted_ids[0]})) "
   ]
  },
  {
   "cell_type": "markdown",
   "id": "8a0cda1a",
   "metadata": {},
   "source": [
    "Q5. Explain how you can use the find() method to query the MongoDB database. Write a simple code to\n",
    "demonstrate this."
   ]
  },
  {
   "cell_type": "code",
   "execution_count": null,
   "id": "0f175284",
   "metadata": {},
   "outputs": [],
   "source": [
    "# finding a reacord has name \"Ram\"\n",
    "\n",
    "for i in pws_collection1.find({\"name\":\"Ram\"}):\n",
    "    print(i)"
   ]
  },
  {
   "cell_type": "code",
   "execution_count": null,
   "id": "0daedf6a",
   "metadata": {},
   "outputs": [],
   "source": [
    "# an random data\n",
    "\n",
    "data3=[{\"id\":1, \"vill\": \"dx poor\"},{\"id\":2, \"vill\": \"mx poor\"},{\"id\":3, \"vill\": \"xx poor\"}, {\"id\":4, \"vill\": \"jh poor\"},\\\n",
    "       {\"id\":5, \"vill\": \"dtx poor\"},{\"id\":4, \"vill\": \"th poor\"},{\"id\":3, \"vill\": \"tt poor\"}, {\"id\":1, \"vill\": \"jh gram\"}\n",
    "      ]\n",
    "#inserting to record the random data\n",
    "pws_collection1.insert_many(data3)"
   ]
  },
  {
   "cell_type": "code",
   "execution_count": null,
   "id": "4bb0dbe2",
   "metadata": {},
   "outputs": [],
   "source": [
    "# logical query\n",
    "# find id greater than or equal to 3\n",
    "\n",
    "try:\n",
    "    for i in pws_collection1.find({\"id\":{\"$gte\":3}}):\n",
    "        print(i)\n",
    "except Exception as e:\n",
    "    print(\"the bug is\", e)"
   ]
  },
  {
   "cell_type": "code",
   "execution_count": null,
   "id": "8917e177",
   "metadata": {},
   "outputs": [],
   "source": [
    "# logical query\n",
    "# find id greater than 4\n",
    "try:\n",
    "    for i in pws_collection1.find({\"id\":{\"$gt\":4}}):\n",
    "        print(i)\n",
    "        \n",
    "except Exception as e:\n",
    "    print(e)"
   ]
  },
  {
   "cell_type": "markdown",
   "id": "e117a698",
   "metadata": {},
   "source": [
    "Q6. Explain the sort() method. Give an example to demonstrate sorting in MongoDB."
   ]
  },
  {
   "cell_type": "code",
   "execution_count": null,
   "id": "2315cc4e",
   "metadata": {},
   "outputs": [],
   "source": [
    "The sort() method is used in MongoDB to sort the results of a query in ascending or descending order. \n",
    "It can be used with the find() method to sort the results based on a particular field in the documents.\n",
    "    \n",
    "for example :\n",
    "from pymongo import MongoClient\n",
    "\n",
    "# connect to the MongoDB server\n",
    "client = MongoClient()\n",
    "\n",
    "# select the database and collection\n",
    "db = client.mydatabase\n",
    "collection = db.students\n",
    "\n",
    "# sort the documents by name in ascending order\n",
    "results = collection.find().sort(\"name\", 1)\n",
    "\n",
    "# print the sorted documents\n",
    "for doc in results:\n",
    "    print(doc)"
   ]
  },
  {
   "cell_type": "markdown",
   "id": "632ca429",
   "metadata": {},
   "source": [
    "Q7. Explain why delete_one(), delete_many(), and drop() is used."
   ]
  },
  {
   "cell_type": "code",
   "execution_count": null,
   "id": "5b469b83",
   "metadata": {},
   "outputs": [],
   "source": [
    "In MongoDB, the delete_one() and delete_many() methods are used to remove documents from a collection. The delete_one() method deletes the first document that matches the specified criteria, while delete_many() deletes all documents that match the criteria.\n",
    "\n",
    "The drop() method is used to remove an entire collection from the database. This is useful when you want to delete all the data in a collection, or if you want to start over with a new collection with the same name.\n",
    "\n",
    "For example, let's say we have a collection called users, and we want to remove all the documents where the status field is equal to \"inactive\". We can use the delete_many() method to do this:\n",
    "from pymongo import MongoClient\n",
    "\n",
    "client = MongoClient()\n",
    "db = client.mydatabase\n",
    "users = db.users\n",
    "\n",
    "result = users.delete_many({\"status\": \"inactive\"})\n",
    "\n",
    "print(result.deleted_count, \"documents deleted\")\n",
    "\n",
    "This code will remove all the documents where the status field is \"inactive\", and print the number of documents that were deleted.\n",
    "\n",
    "If we want to remove the entire users collection, we can use the drop() method:\n",
    "    \n",
    "     users.drop()\n",
    "\n",
    "This code will remove the users collection from the database."
   ]
  },
  {
   "cell_type": "markdown",
   "id": "0d947202",
   "metadata": {},
   "source": [
    "# Name:Shivam Tyagi"
   ]
  },
  {
   "cell_type": "markdown",
   "id": "e6eb83cd",
   "metadata": {},
   "source": [
    "# E-mail:shivam1612tyagi@gmail.com"
   ]
  },
  {
   "cell_type": "markdown",
   "id": "06c0c221",
   "metadata": {},
   "source": [
    "# Thank You!!"
   ]
  },
  {
   "cell_type": "code",
   "execution_count": null,
   "id": "22d34547",
   "metadata": {},
   "outputs": [],
   "source": []
  }
 ],
 "metadata": {
  "kernelspec": {
   "display_name": "Python 3 (ipykernel)",
   "language": "python",
   "name": "python3"
  },
  "language_info": {
   "codemirror_mode": {
    "name": "ipython",
    "version": 3
   },
   "file_extension": ".py",
   "mimetype": "text/x-python",
   "name": "python",
   "nbconvert_exporter": "python",
   "pygments_lexer": "ipython3",
   "version": "3.9.7"
  }
 },
 "nbformat": 4,
 "nbformat_minor": 5
}
