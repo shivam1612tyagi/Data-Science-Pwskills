{
 "cells": [
  {
   "cell_type": "markdown",
   "id": "f2ae5f35",
   "metadata": {},
   "source": [
    "# 18th feb,2023 Assignmnet ----------------------------------------- Shivam Tyagi"
   ]
  },
  {
   "cell_type": "markdown",
   "id": "7267a630",
   "metadata": {},
   "source": [
    "Q1. What is an API? Give an example, where an API is used in real life."
   ]
  },
  {
   "cell_type": "code",
   "execution_count": null,
   "id": "54a43b92",
   "metadata": {},
   "outputs": [],
   "source": [
    "Application Programming Interface (API) is a software interface that allows two applications to interact with each other without any user intervention.\n",
    "\n",
    "API is a collection of software functions and procedures. In simple terms, API means a software code that can be accessed or executed.\n",
    "\n",
    "API is defined as a code that helps two different software’s to communicate and exchange data with each other.\n",
    "\n",
    "It offers products or services to communicate with other products and services without having to know how they’re implemented.\n",
    "\n",
    "API is used in real life:\n",
    "API is used in mobile application like Gpay, PhnPay, PayPall, Bank application, Ola, Ubar othe tranportable application, linkedin application etc."
   ]
  },
  {
   "cell_type": "markdown",
   "id": "1f8f52ca",
   "metadata": {},
   "source": [
    "Q2. Give advantages and disadvantages of using API."
   ]
  },
  {
   "cell_type": "code",
   "execution_count": null,
   "id": "7027896b",
   "metadata": {},
   "outputs": [],
   "source": [
    "Ans- \n",
    "Advantages of using API:\n",
    "\n",
    "1.Reusability: APIs provide a reusable interface to software functions or services, which can be used across different applications and platforms.\n",
    "\n",
    "2.Flexibility: APIs provide a flexible way to integrate different software applications, making it easier to create custom workflows and processes.\n",
    "\n",
    "3.Scalability: APIs can handle large amounts of data and traffic, making them ideal for use in large-scale systems and applications.\n",
    "\n",
    "4.Improved efficiency: APIs can help automate repetitive tasks and streamline workflows, which can improve the efficiency of software applications.\n",
    "\n",
    "5.Increased innovation: APIs can stimulate innovation by allowing developers to build on existing software and services, creating new and innovative applications and services.\n",
    "\n",
    "Disadvantages of using API:\n",
    "\n",
    "1.Security risks: APIs can be a security risk if they are not designed and implemented properly. They can provide unauthorized access to sensitive data or functions, which can be exploited by hackers.\n",
    "\n",
    "2.Complexity: APIs can be complex to design and implement, especially when integrating with legacy systems or non-standard interfaces.\n",
    "\n",
    "3.Dependence on third-party services: APIs are often dependent on third-party services, which can cause issues if those services experience downtime or are discontinued.\n",
    "\n",
    "4.Maintenance and support: APIs require ongoing maintenance and support, which can be time-consuming and expensive.\n",
    "\n",
    "5.Compatibility issues: APIs may have compatibility issues with different platforms, programming languages, or versions of software, which can cause integration issues.\n"
   ]
  },
  {
   "cell_type": "markdown",
   "id": "e697b3ce",
   "metadata": {},
   "source": [
    "Q3. What is a Web API? Differentiate between API and Web API."
   ]
  },
  {
   "cell_type": "code",
   "execution_count": null,
   "id": "ff06b488",
   "metadata": {},
   "outputs": [],
   "source": [
    "Ans-\n",
    "A Web API, also known as a Web Service, is an API that is accessed over the HTTP protocol and allows different software systems to communicate with each other over the internet. It uses the standard HTTP request methods like GET, POST, PUT, and DELETE to make requests and receive responses in a predefined format such as JSON or XML.\n",
    "\n",
    "API, on the other hand, is a more general term that refers to any interface that allows different software systems to communicate with each other. While Web API is used over the internet, an API can be used within a single software application or among multiple software applications in the same local network or even across different networks.\n",
    "\n",
    "In summary, a Web API is a specific type of API that is accessed over the internet using the HTTP protocol.\n"
   ]
  },
  {
   "cell_type": "markdown",
   "id": "7c1bd0db",
   "metadata": {},
   "source": [
    "Q4. Explain REST and SOAP Architecture. Mention shortcomings of SOAP."
   ]
  },
  {
   "cell_type": "code",
   "execution_count": null,
   "id": "ca8db7bd",
   "metadata": {},
   "outputs": [],
   "source": [
    "Ans-\n",
    "REST (Representational State Transfer) and SOAP (Simple Object Access Protocol) are two widely used architectural styles for building web services.\n",
    "\n",
    "REST is a lightweight and flexible architectural style that relies on a set of principles and constraints for creating web services. These principles include the use of HTTP methods (GET, POST, PUT, DELETE) for resource manipulation, a uniform resource identifier (URI) for resource identification, and the use of hypermedia as the engine of application state. REST is widely used in web-based applications and APIs because it is simple, scalable, and efficient.\n",
    "\n",
    "SOAP, on the other hand, is a more complex and rigid architectural style that relies on XML-based messaging protocols for exchanging data between applications. SOAP is typically used in enterprise-level applications and web services that require advanced security features and transactional capabilities.\n",
    "\n",
    "The shortcomings of SOAP architecture include its complexity, verbosity, and overhead. SOAP messages are typically much larger than REST messages due to the use of XML, which can impact performance and network bandwidth. Additionally, SOAP can be more difficult to implement and maintain compared to REST due to its complexity and rigid structure.\n"
   ]
  },
  {
   "cell_type": "markdown",
   "id": "39c42cf7",
   "metadata": {},
   "source": [
    "Q5. Differentiate between REST and SOAP."
   ]
  },
  {
   "cell_type": "code",
   "execution_count": null,
   "id": "965ae9e4",
   "metadata": {},
   "outputs": [],
   "source": [
    "Ans-\n",
    "\n",
    "1.Architecture style: REST (Representational State Transfer) is a software architecture style that uses a client-server model, while SOAP (Simple Object Access Protocol) is a protocol for exchanging information between web services.\n",
    "\n",
    "2.Data format: REST uses lightweight data formats like JSON (JavaScript Object Notation) or XML (Extensible Markup Language) for data exchange, while SOAP uses XML exclusively.\n",
    "\n",
    "3.URL structure: REST has a more intuitive and user-friendly URL structure that maps to resources, while SOAP uses a more complex and rigid URL structure.\n",
    "\n",
    "4.State management: REST is stateless, meaning it doesn't require any client context to be stored on the server. SOAP, on the other hand, is stateful and requires that the server retains some information about each client.\n",
    "\n",
    "5.Performance: REST is generally faster and more efficient than SOAP because it uses a smaller message size and has less overhead.\n",
    "\n",
    "6.Security: SOAP has built-in security features, while REST relies on transport-level security like SSL (Secure Sockets Layer) for secure communication.\n",
    "\n",
    "Overall, REST is simpler and more flexible than SOAP, making it a popular choice for building web services."
   ]
  },
  {
   "cell_type": "markdown",
   "id": "f1c6c5c2",
   "metadata": {},
   "source": [
    "# Name:Shivam Tyagi"
   ]
  },
  {
   "cell_type": "markdown",
   "id": "a6ef55e9",
   "metadata": {},
   "source": [
    "# E-mail:shivam1612tyagi@gmail.com"
   ]
  },
  {
   "cell_type": "markdown",
   "id": "bf71ebf1",
   "metadata": {},
   "source": [
    "# Thank you!!"
   ]
  },
  {
   "cell_type": "code",
   "execution_count": null,
   "id": "6c38f52c",
   "metadata": {},
   "outputs": [],
   "source": []
  }
 ],
 "metadata": {
  "kernelspec": {
   "display_name": "Python 3 (ipykernel)",
   "language": "python",
   "name": "python3"
  },
  "language_info": {
   "codemirror_mode": {
    "name": "ipython",
    "version": 3
   },
   "file_extension": ".py",
   "mimetype": "text/x-python",
   "name": "python",
   "nbconvert_exporter": "python",
   "pygments_lexer": "ipython3",
   "version": "3.9.7"
  }
 },
 "nbformat": 4,
 "nbformat_minor": 5
}
