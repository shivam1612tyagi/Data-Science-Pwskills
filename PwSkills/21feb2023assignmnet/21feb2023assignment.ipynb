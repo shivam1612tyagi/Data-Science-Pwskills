{
 "cells": [
  {
   "cell_type": "markdown",
   "id": "3b601cc0",
   "metadata": {},
   "source": [
    "# 21st feb,2023 Assignment ---------------------------------------------- Shivam Tyagi"
   ]
  },
  {
   "cell_type": "markdown",
   "id": "543e6e62",
   "metadata": {},
   "source": [
    "Q1. What is Web Scraping? Why is it Used? Give three areas where Web Scraping is used to get data."
   ]
  },
  {
   "cell_type": "code",
   "execution_count": null,
   "id": "de443ccd",
   "metadata": {},
   "outputs": [],
   "source": [
    "Ans- \n",
    "Web scraping refers to the process of extracting data from websites using automated programs or scripts. In other words, it is \n",
    "a technique for extracting data from web pages in an automated manner. The extracted data is then used for various purposes, \n",
    "such as data analysis, research, and machine learning.\n",
    "\n",
    "Web scraping is used for a variety of reasons, including:\n",
    "\n",
    "1.Data collection: Web scraping is used to collect data from different websites. This data can be used for various purposes \n",
    "                    such as market research, competitor analysis, and product pricing.\n",
    "\n",
    "2.Research: Web scraping is also used for research purposes. Researchers use web scraping to collect data for academic studies,\n",
    "            social media sentiment analysis, and many other research applications.\n",
    "\n",
    "3.Machine learning: Web scraping is used in machine learning to train models with large datasets. For example, a company might \n",
    "                    use web scraping to collect data on customer reviews, and then use that data to train a machine learning\n",
    "                    model to predict sentiment.\n",
    "\n",
    "Here are three areas where web scraping is used to get data:\n",
    "\n",
    "1.E-commerce: Web scraping is commonly used in the e-commerce industry to collect data on product prices, product descriptions, \n",
    "              customer reviews, and more. This data can be used to optimize pricing, improve product descriptions, and monitor \n",
    "              competitors.\n",
    "\n",
    "2.Social media: Web scraping is also used to collect data from social media platforms such as Twitter, Facebook, and Instagram. \n",
    "                This data can be used to analyze social media trends, track sentiment, and monitor social media campaigns.\n",
    "\n",
    "3.Job boards: Web scraping is used to collect job postings from job boards. This data can be used to analyze job trends, \n",
    "              identify skill requirements, and track hiring patterns.\n"
   ]
  },
  {
   "cell_type": "markdown",
   "id": "941bb81a",
   "metadata": {},
   "source": [
    "Q2. What are the different methods used for Web Scraping?"
   ]
  },
  {
   "cell_type": "code",
   "execution_count": null,
   "id": "c94d7674",
   "metadata": {},
   "outputs": [],
   "source": [
    "Ans- \n",
    "There are several methods for web scraping, depending on the specific requirements of the project. Here are some of the most \n",
    "common methods used for web scraping:\n",
    "\n",
    "1.Manual scraping: This is the most basic method of web scraping, where data is manually copied and pasted from web pages into \n",
    "                   a spreadsheet or text editor. It is time-consuming and not scalable, but it may be useful for small projects \n",
    "                   with limited data.\n",
    "\n",
    "2.Web scraping software: There are several web scraping software tools available that automate the process of web scraping. \n",
    "                         These tools can extract data from web pages and save it in a structured format such as CSV, JSON, or \n",
    "                         XML.\n",
    "\n",
    "3.APIs: Some websites provide APIs (Application Programming Interfaces) that allow users to access data in a structured format. \n",
    "        APIs are a reliable and scalable way to extract data from websites, but they may require authentication and often have \n",
    "        usage limits.\n",
    "\n",
    "4.Parsing HTML: HTML parsing involves analyzing the HTML structure of a web page to extract data. This can be done using \n",
    "                programming languages like Python or Ruby, and libraries like Beautiful Soup and Nokogiri.\n",
    "\n",
    "5.Headless browsing: Headless browsing involves using a browser to scrape data from a website, without actually rendering the \n",
    "                     page. This method can be useful for scraping dynamic websites that use JavaScript, but it requires more \n",
    "                     technical expertise.\n",
    "\n",
    "6.Proxy servers: Some websites may block web scraping attempts, so it may be necessary to use proxy servers to avoid detection. \n",
    "                 Proxy servers allow users to access websites from a different IP address, making it more difficult for websites\n",
    "                 to identify and block scraping attempts.\n"
   ]
  },
  {
   "cell_type": "markdown",
   "id": "6d4bedd8",
   "metadata": {},
   "source": [
    "Q3. What is Beautiful Soup? Why is it used?"
   ]
  },
  {
   "cell_type": "code",
   "execution_count": null,
   "id": "0edaeb29",
   "metadata": {},
   "outputs": [],
   "source": [
    "Ans- \n",
    "Beautiful Soup is a Python library used for web scraping purposes. It provides a set of tools for parsing HTML and XML documents,\n",
    "extracting data, navigating the parsed tree, and manipulating the document structure. Beautiful Soup is widely used by web \n",
    "developers, data scientists, and researchers to extract data from websites.\n",
    "\n",
    "The main reasons for using Beautiful Soup for web scraping are:\n",
    "\n",
    "1.Parsing HTML and XML documents: Beautiful Soup can parse both HTML and XML documents, making it a versatile tool for web \n",
    "                                  scraping.\n",
    "\n",
    "2.Extraction of data: Beautiful Soup provides a set of functions that allow developers to extract data from web pages based on \n",
    "                      the page structure, element attributes, and other criteria.\n",
    "\n",
    "3.Navigation: Beautiful Soup provides a navigable tree-like representation of the HTML or XML document, allowing developers to \n",
    "              easily navigate through the document structure and extract data from specific elements.\n",
    "\n",
    "4.Compatibility: with popular Python libraries: Beautiful Soup is compatible with popular Python libraries such as Requests and \n",
    "                 Pandas, making it easy to integrate web scraping into existing Python workflows.\n",
    "\n",
    "5.Flexibility: Beautiful Soup is a flexible tool that can be used for a wide range of web scraping tasks, from simple data \n",
    "                extraction to complex web crawling and scraping of dynamic websites.\n"
   ]
  },
  {
   "cell_type": "markdown",
   "id": "931d4dad",
   "metadata": {},
   "source": [
    "Q4. Why is flask used in this Web Scraping project?"
   ]
  },
  {
   "cell_type": "code",
   "execution_count": null,
   "id": "79264713",
   "metadata": {},
   "outputs": [],
   "source": [
    "Ans-\n",
    "Flask is a lightweight web framework for Python that is commonly used for building web applications and APIs. \n",
    "In a web scraping project, Flask can be used for several reasons:\n",
    "\n",
    "1.Building a web interface: Flask can be used to create a simple web interface for the web scraping project, allowing users to \n",
    "                            enter URLs or search terms, and displaying the results of the web scraping.\n",
    "\n",
    "2.Running a web server: Flask can be used to run a web server that serves the web scraping application, making it accessible to \n",
    "                        users over the internet.\n",
    "\n",
    "3.Handling HTTP requests: Flask provides tools for handling HTTP requests, such as GET and POST requests, which are used in web \n",
    "                          scraping to retrieve data from web pages.\n",
    "\n",
    "4.Managing session data: Flask can manage session data, allowing users to save and retrieve information between requests. \n",
    "                         This can be useful for web scraping projects where users need to store data between different scraping \n",
    "                         sessions.\n",
    "\n",
    "5.Integration with other Python libraries: Flask can be easily integrated with other Python libraries, including web scraping \n",
    "                                           libraries like Beautiful Soup and Requests, making it a powerful tool for building \n",
    "                                           web scraping applications.\n"
   ]
  },
  {
   "cell_type": "markdown",
   "id": "fe9d2b86",
   "metadata": {},
   "source": [
    "Q5. Write the names of AWS services used in this project. Also, explain the use of each service."
   ]
  },
  {
   "cell_type": "code",
   "execution_count": null,
   "id": "af022451",
   "metadata": {},
   "outputs": [],
   "source": [
    "Ans-\n",
    "\n",
    "AWS Lambda: AWS Lambda is a serverless computing service that can be used to run web scraping scripts in response to events, \n",
    "            such as file uploads or HTTP requests.\n",
    "\n",
    "Amazon API Gateway: Amazon API Gateway can be used to create APIs for accessing scraped data or triggering web scraping scripts."
   ]
  },
  {
   "cell_type": "markdown",
   "id": "9d9d2a6d",
   "metadata": {},
   "source": [
    "# Name:Shivam Tyagi"
   ]
  },
  {
   "cell_type": "markdown",
   "id": "04feac08",
   "metadata": {},
   "source": [
    "# E-mail:shivam1612tygai@gmail.com"
   ]
  },
  {
   "cell_type": "markdown",
   "id": "f2c7e4f7",
   "metadata": {},
   "source": [
    "# Thank you!!"
   ]
  },
  {
   "cell_type": "code",
   "execution_count": null,
   "id": "696f89a8",
   "metadata": {},
   "outputs": [],
   "source": []
  }
 ],
 "metadata": {
  "kernelspec": {
   "display_name": "Python 3 (ipykernel)",
   "language": "python",
   "name": "python3"
  },
  "language_info": {
   "codemirror_mode": {
    "name": "ipython",
    "version": 3
   },
   "file_extension": ".py",
   "mimetype": "text/x-python",
   "name": "python",
   "nbconvert_exporter": "python",
   "pygments_lexer": "ipython3",
   "version": "3.9.7"
  }
 },
 "nbformat": 4,
 "nbformat_minor": 5
}
