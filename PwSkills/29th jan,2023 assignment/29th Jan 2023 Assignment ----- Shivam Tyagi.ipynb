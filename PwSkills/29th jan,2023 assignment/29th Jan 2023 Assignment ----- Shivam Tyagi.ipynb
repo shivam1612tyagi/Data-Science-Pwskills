{
 "cells": [
  {
   "cell_type": "markdown",
   "id": "0bc19ddd",
   "metadata": {},
   "source": [
    "# 29th Jan 2023 Assignment                                                                            Shivam Tyagi"
   ]
  },
  {
   "cell_type": "markdown",
   "id": "89f50502",
   "metadata": {},
   "source": [
    "1. Who developed Python Programming Language?"
   ]
  },
  {
   "cell_type": "markdown",
   "id": "1c356030",
   "metadata": {},
   "source": [
    "Answer: Guido Van Rossum "
   ]
  },
  {
   "cell_type": "markdown",
   "id": "c9420424",
   "metadata": {},
   "source": [
    "2. which type of programming does Python support?"
   ]
  },
  {
   "cell_type": "markdown",
   "id": "bc700730",
   "metadata": {},
   "source": [
    "Answer: Object-oriented, structured and functional programming"
   ]
  },
  {
   "cell_type": "markdown",
   "id": "00c03526",
   "metadata": {},
   "source": [
    "3. is python case senstitive when dealing with identifiers?"
   ]
  },
  {
   "cell_type": "markdown",
   "id": "7886a946",
   "metadata": {},
   "source": [
    "Answer: yes"
   ]
  },
  {
   "cell_type": "markdown",
   "id": "e7bbf48d",
   "metadata": {},
   "source": [
    "4. what is the correct extension of python file?"
   ]
  },
  {
   "cell_type": "markdown",
   "id": "8b5c1a87",
   "metadata": {},
   "source": [
    "Answer: .py"
   ]
  },
  {
   "cell_type": "markdown",
   "id": "344a6fe1",
   "metadata": {},
   "source": [
    "5. is python code compiled or interpreted?"
   ]
  },
  {
   "cell_type": "markdown",
   "id": "ca7f0605",
   "metadata": {},
   "source": [
    "Answer: Interpreted"
   ]
  },
  {
   "cell_type": "markdown",
   "id": "6fb308dc",
   "metadata": {},
   "source": [
    "6. name a few blocks of code used to define in python language?"
   ]
  },
  {
   "cell_type": "markdown",
   "id": "e774214e",
   "metadata": {},
   "source": [
    "Answer: Indentation "
   ]
  },
  {
   "cell_type": "markdown",
   "id": "5608eb3e",
   "metadata": {},
   "source": [
    "7. State a character used to give single line comments in Python?"
   ]
  },
  {
   "cell_type": "markdown",
   "id": "12c3c453",
   "metadata": {},
   "source": [
    "Answer: # character"
   ]
  },
  {
   "cell_type": "markdown",
   "id": "60f721fe",
   "metadata": {},
   "source": [
    "8. Mention function which can helps us to find the version of python that we are currently working on?"
   ]
  },
  {
   "cell_type": "markdown",
   "id": "bc0d458f",
   "metadata": {},
   "source": [
    "Answer"
   ]
  },
  {
   "cell_type": "code",
   "execution_count": 10,
   "id": "04e2c89b",
   "metadata": {},
   "outputs": [
    {
     "name": "stdout",
     "output_type": "stream",
     "text": [
      "Python version\n",
      "3.9.12 (main, Apr  5 2022, 01:53:17) \n",
      "[Clang 12.0.0 ]\n"
     ]
    }
   ],
   "source": [
    "import sys\n",
    "print(\"Python version\")\n",
    "print (sys.version)"
   ]
  },
  {
   "cell_type": "markdown",
   "id": "51b0c977",
   "metadata": {},
   "source": [
    "9. Python support the creation of anonymous functions at runtime, using a construct called ----"
   ]
  },
  {
   "cell_type": "markdown",
   "id": "b62721b0",
   "metadata": {},
   "source": [
    "Answer : Lambda"
   ]
  },
  {
   "cell_type": "markdown",
   "id": "9d327638",
   "metadata": {},
   "source": [
    "10. what does pip stand for python?"
   ]
  },
  {
   "cell_type": "markdown",
   "id": "42a84603",
   "metadata": {},
   "source": [
    "Answer:\n",
    "pip stands for \"preferred installer program\".\n",
    "PIP is a package manager for Python packages, or modules"
   ]
  },
  {
   "cell_type": "markdown",
   "id": "ea15489a",
   "metadata": {},
   "source": [
    "11. mention a  few bulit-in fuction in python?"
   ]
  },
  {
   "cell_type": "markdown",
   "id": "84d126fa",
   "metadata": {},
   "source": [
    "Answer :    print()function.\n",
    "            type() function.\n",
    "            input()function.\n",
    "            abs() function.\n",
    "            pow() function.\n",
    "            sorted() function.\n",
    "            max() function."
   ]
  },
  {
   "cell_type": "markdown",
   "id": "2548c1a9",
   "metadata": {},
   "source": [
    "12. what is the maximum possible length of an identifier in python?"
   ]
  },
  {
   "cell_type": "markdown",
   "id": "8e14fe20",
   "metadata": {},
   "source": [
    "Answer:  79 characters"
   ]
  },
  {
   "cell_type": "markdown",
   "id": "e5b6328d",
   "metadata": {},
   "source": [
    "13. what are the benefits of using python?"
   ]
  },
  {
   "cell_type": "markdown",
   "id": "91f1c86c",
   "metadata": {},
   "source": [
    "Answer: 1.Extensive support libraries(NumPy for numerical calculations, Pandas for data analytics, etc.). \n",
    "        2.Open source and large active community base. \n",
    "        3.Versatile, Easy to read, learn and write.\n",
    "        4.User-friendly data structures. \n",
    "        5.High-level language. \n",
    "        6.Dynamically typed language(No need to mention data type based on the value assigned, it takes data type). \n",
    "        7.Object-Oriented and Procedural  Programming language.\n",
    "        8.Portable and Interactive."
   ]
  },
  {
   "cell_type": "markdown",
   "id": "5dfd0995",
   "metadata": {},
   "source": [
    "14. how is memory mananged in python?"
   ]
  },
  {
   "cell_type": "markdown",
   "id": "5b612c67",
   "metadata": {},
   "source": [
    "Answer:\n",
    "1. Memory in Python is managed by Python private heap space. All Python objects and data structures are located in a \n",
    "   private heap. This private heap is taken care of by Python Interpreter itself, and a programmer doesn’t have access \n",
    "   to this private heap.\n",
    "2. Python memory manager takes care of the allocation of Python private heap space.\n",
    "3. Memory for Python private heap space is made available by Python’s in-built garbage collector, which recycles and \n",
    "   frees up all the unused memory.\n"
   ]
  },
  {
   "cell_type": "markdown",
   "id": "f6ade593",
   "metadata": {},
   "source": [
    "15. how to install python on window and set path variable?"
   ]
  },
  {
   "cell_type": "markdown",
   "id": "a7abb96a",
   "metadata": {},
   "source": [
    "Answer:\n",
    "    \n",
    "1-  Installing Python from Python.org\n",
    "    Go on Python.org at the section where you can download the windows executables:\n",
    "    https://www.python.org/downloads/windows/\n",
    "\n",
    "2- Once the installer is downloaded, run the Python installer.\n",
    "\n",
    "3- Check the Install launcher for all users check box. Further, you may check the Add Python 3.7 to path check box to \n",
    "   include the interpreter in the execution path\n",
    "4- Select Customize installation.\n",
    "5- Click Next.8. This takes you to Advanced Options available while installing Python. Here, select the Install for \n",
    "   all users and Add Python to environment variables check boxes.\n",
    "6-Once the installation is over, you will see a Python Setup Successful window.\n",
    "\n",
    "Add Python to environmental variables\n",
    "\n",
    "1. Right click on My Computer and click on properties.\n",
    "2. Click on Advanced System settings.\n",
    "3. Click on Environment Variable tab.\n",
    "4. Click on new tab of user variables.\n",
    "5. Write path in variable name\n",
    "6. Copy the path of Python folder\n",
    "7. Paste path of Python in variable value.\n",
    "8. Click on Ok button.\n"
   ]
  },
  {
   "cell_type": "markdown",
   "id": "0f7d778f",
   "metadata": {},
   "source": [
    "16. is indentation required in python?\n"
   ]
  },
  {
   "cell_type": "markdown",
   "id": "1b1a426f",
   "metadata": {},
   "source": [
    "Answer: Yes"
   ]
  },
  {
   "cell_type": "markdown",
   "id": "2e2b85af",
   "metadata": {},
   "source": [
    "# Name: Shivam Tyagi\n"
   ]
  },
  {
   "cell_type": "markdown",
   "id": "7267ee6a",
   "metadata": {},
   "source": [
    "# Mail: shivam1612tyagi@gmail.com\n",
    "    "
   ]
  },
  {
   "cell_type": "markdown",
   "id": "c892c0bf",
   "metadata": {},
   "source": [
    "# Thank you!!"
   ]
  },
  {
   "cell_type": "code",
   "execution_count": null,
   "id": "cd8c864a",
   "metadata": {},
   "outputs": [],
   "source": []
  }
 ],
 "metadata": {
  "kernelspec": {
   "display_name": "Python 3 (ipykernel)",
   "language": "python",
   "name": "python3"
  },
  "language_info": {
   "codemirror_mode": {
    "name": "ipython",
    "version": 3
   },
   "file_extension": ".py",
   "mimetype": "text/x-python",
   "name": "python",
   "nbconvert_exporter": "python",
   "pygments_lexer": "ipython3",
   "version": "3.9.12"
  }
 },
 "nbformat": 4,
 "nbformat_minor": 5
}
