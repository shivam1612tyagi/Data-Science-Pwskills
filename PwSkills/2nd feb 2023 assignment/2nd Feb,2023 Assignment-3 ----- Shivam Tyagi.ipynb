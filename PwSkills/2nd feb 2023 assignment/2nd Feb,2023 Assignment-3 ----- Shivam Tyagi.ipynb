{
 "cells": [
  {
   "cell_type": "markdown",
   "id": "dba771fc",
   "metadata": {},
   "source": [
    "# 2nd Feb,2023 Assignment-3"
   ]
  },
  {
   "cell_type": "markdown",
   "id": "c0f14def",
   "metadata": {},
   "source": [
    "Q1. Explain with an example each when to use a for loop and a while loop."
   ]
  },
  {
   "cell_type": "code",
   "execution_count": 1,
   "id": "6a473678",
   "metadata": {},
   "outputs": [
    {
     "data": {
      "text/plain": [
       "'For loop:-\\nthe for loop is used to run a block of code for a certain number of times. It is used to iterate over any sequences \\nsuch as list, tuple, string, etc.\\n\\nExample:\\nfor i in range(4):\\n    print(i)\\n    \\nO/p: 0,1,2,3\\n\\nThe value of i is set to 0 and it is updated to the next number of the range on each iteration. \\nThis process continues until 3 is reached.\\n\\nIteration       Condition             Action\\n1st True      0 is printed.    i is increased to 1.\\n2nd True      1 is printed.    i is increased to 2.\\n3rd True      2 is printed.    i is increased to 3.\\n4th True      3 is printed.    i is increased to 4.\\n5th False The loop is terminated\\n\\nWhile loop:-\\nPython while loop is used to run a block code until a certain condition is met.\\nThe syntax of while loop is:\\nwhile condition:\\n    # body of while loop\\n\\nexample:\\ni = 1\\nn = 5\\nwhile loop from i = 1 to 5\\nwhile i <= n:\\n    print(i)\\n    i = i + 1\\no/p: 1, 2,3, 4,5\\n    \\n\\nVariable      Condition: i <= n         Action\\ni = 1\\nn = 5               True               1 is printed. i is increased to 2.\\n\\ni = 2\\nn = 5               True               2 is printed. i is increased to 3.\\n\\ni = 3\\nn = 5               True               3 is printed. i is increased to 4.\\n\\ni = 4\\nn = 5               True               4 is printed. i is increased to 5.\\n\\ni = 5\\nn = 5               True               5 is printed. i is increased to 6.\\n\\ni = 6\\nn = 5               False              The loop is terminated.\\n'"
      ]
     },
     "execution_count": 1,
     "metadata": {},
     "output_type": "execute_result"
    }
   ],
   "source": [
    "'''\n",
    "Answer:\n",
    "For loop:-\n",
    "the for loop is used to run a block of code for a certain number of times. It is used to iterate over any sequences \n",
    "such as list, tuple, string, etc.\n",
    "\n",
    "Example:\n",
    "for i in range(4):\n",
    "    print(i)\n",
    "    \n",
    "O/p: 0,1,2,3\n",
    "\n",
    "The value of i is set to 0 and it is updated to the next number of the range on each iteration. \n",
    "This process continues until 3 is reached.\n",
    "\n",
    "Iteration       Condition             Action\n",
    "1st True      0 is printed.    i is increased to 1.\n",
    "2nd True      1 is printed.    i is increased to 2.\n",
    "3rd True      2 is printed.    i is increased to 3.\n",
    "4th True      3 is printed.    i is increased to 4.\n",
    "5th False The loop is terminated\n",
    "\n",
    "While loop:-\n",
    "Python while loop is used to run a block code until a certain condition is met.\n",
    "The syntax of while loop is:\n",
    "while condition:\n",
    "    # body of while loop\n",
    "\n",
    "example:\n",
    "i = 1\n",
    "n = 5\n",
    "while loop from i = 1 to 5\n",
    "while i <= n:\n",
    "    print(i)\n",
    "    i = i + 1\n",
    "o/p: 1, 2,3, 4,5\n",
    "    \n",
    "\n",
    "Variable      Condition: i <= n         Action\n",
    "i = 1\n",
    "n = 5               True               1 is printed. i is increased to 2.\n",
    "\n",
    "i = 2\n",
    "n = 5               True               2 is printed. i is increased to 3.\n",
    "\n",
    "i = 3\n",
    "n = 5               True               3 is printed. i is increased to 4.\n",
    "\n",
    "i = 4\n",
    "n = 5               True               4 is printed. i is increased to 5.\n",
    "\n",
    "i = 5\n",
    "n = 5               True               5 is printed. i is increased to 6.\n",
    "\n",
    "i = 6\n",
    "n = 5               False              The loop is terminated.\n",
    "'''"
   ]
  },
  {
   "cell_type": "markdown",
   "id": "c246b221",
   "metadata": {},
   "source": [
    "Q2. Write a python program to print the sum and product of the first 10 natural numbers using for\n",
    "and while loop."
   ]
  },
  {
   "cell_type": "code",
   "execution_count": 1,
   "id": "c1b6ecfc",
   "metadata": {},
   "outputs": [
    {
     "name": "stdout",
     "output_type": "stream",
     "text": [
      "The sum is 55  and product is 3628800\n"
     ]
    }
   ],
   "source": [
    "sum = 0\n",
    "prod=1\n",
    "num=10\n",
    "while(num > 0):\n",
    "    sum += num\n",
    "    prod*=num\n",
    "    num -= 1\n",
    "print(\"The sum is\", sum,\" and product is\",prod)"
   ]
  },
  {
   "cell_type": "markdown",
   "id": "e493f483",
   "metadata": {},
   "source": [
    "Q3. Create a python program to compute the electricity bill for a household.\n",
    "The per-unit charges in rupees are as follows: For the first 100 units, the user will be charged Rs. 4.5 per\n",
    "unit, for the next 100 units, the user will be charged Rs. 6 per unit, and for the next 100 units, the user will\n",
    "be charged Rs. 10 per unit, After 300 units and above the user will be charged Rs. 20 per unit.\n",
    "You are required to take the units of electricity consumed in a month from the user as input.\n",
    "Your program must pass this test case: when the unit of electricity consumed by the user in a month is\n",
    "310, the total electricity bill should be 2250."
   ]
  },
  {
   "cell_type": "code",
   "execution_count": 2,
   "id": "5c302129",
   "metadata": {},
   "outputs": [
    {
     "name": "stdout",
     "output_type": "stream",
     "text": [
      "enter the unit:310\n",
      "the total electricity bill should be  2250.0\n"
     ]
    }
   ],
   "source": [
    "units=int(input(\"enter the unit:\"))\n",
    "if(units <= 100):\n",
    "    a=units*4.5\n",
    "    print(\"the total electricity bill should be \",a)\n",
    "elif(units <= 200):\n",
    "    b=(100*4.5) +(units-100)*6\n",
    "    print(\"the total electricity bill should be \",b)   \n",
    "elif(units <= 300):\n",
    "    c=(100*4.5) +(100*6) +(units-200)*10\n",
    "    print(\"the total electricity bill should be \",c)\n",
    "elif(units > 300):\n",
    "    d=(100*4.5) +(100*6) + (100*10) + (units-300)*20\n",
    "    print(\"the total electricity bill should be \",d)\n",
    "     "
   ]
  },
  {
   "cell_type": "markdown",
   "id": "52dbfc44",
   "metadata": {},
   "source": [
    "Q4. Create a list of numbers from 1 to 100. Use for loop and while loop to calculate the cube of each\n",
    "number and if the cube of that number is divisible by 4 or 5 then append that number in a list and print\n",
    "that list."
   ]
  },
  {
   "cell_type": "code",
   "execution_count": 3,
   "id": "d1910254",
   "metadata": {},
   "outputs": [
    {
     "name": "stdout",
     "output_type": "stream",
     "text": [
      "**************************original list**************************\n",
      "[0, 1, 2, 3, 4, 5, 6, 7, 8, 9, 10, 11, 12, 13, 14, 15, 16, 17, 18, 19, 20, 21, 22, 23, 24, 25, 26, 27, 28, 29, 30, 31, 32, 33, 34, 35, 36, 37, 38, 39, 40, 41, 42, 43, 44, 45, 46, 47, 48, 49, 50, 51, 52, 53, 54, 55, 56, 57, 58, 59, 60, 61, 62, 63, 64, 65, 66, 67, 68, 69, 70, 71, 72, 73, 74, 75, 76, 77, 78, 79, 80, 81, 82, 83, 84, 85, 86, 87, 88, 89, 90, 91, 92, 93, 94, 95, 96, 97, 98, 99, 100]\n",
      "**********************************after cube********************\n",
      "[0, 1, 8, 27, 64, 125, 216, 343, 512, 729, 1000, 1331, 1728, 2197, 2744, 3375, 4096, 4913, 5832, 6859, 8000, 9261, 10648, 12167, 13824, 15625, 17576, 19683, 21952, 24389, 27000, 29791, 32768, 35937, 39304, 42875, 46656, 50653, 54872, 59319, 64000, 68921, 74088, 79507, 85184, 91125, 97336, 103823, 110592, 117649, 125000, 132651, 140608, 148877, 157464, 166375, 175616, 185193, 195112, 205379, 216000, 226981, 238328, 250047, 262144, 274625, 287496, 300763, 314432, 328509, 343000, 357911, 373248, 389017, 405224, 421875, 438976, 456533, 474552, 493039, 512000, 531441, 551368, 571787, 592704, 614125, 636056, 658503, 681472, 704969, 729000, 753571, 778688, 804357, 830584, 857375, 884736, 912673, 941192, 970299, 1000000]\n",
      "**********************************Final list********************\n",
      "[0, 8, 64, 125, 216, 512, 1000, 1728, 2744, 3375, 4096, 5832, 8000, 10648, 13824, 15625, 17576, 21952, 27000, 32768, 39304, 42875, 46656, 54872, 64000, 74088, 85184, 91125, 97336, 110592, 125000, 140608, 157464, 166375, 175616, 195112, 216000, 238328, 262144, 274625, 287496, 314432, 343000, 373248, 405224, 421875, 438976, 474552, 512000, 551368, 592704, 614125, 636056, 681472, 729000, 778688, 830584, 857375, 884736, 941192, 1000000]\n"
     ]
    }
   ],
   "source": [
    "res = []\n",
    "final=[]\n",
    "print(\"**************************original list**************************\")\n",
    "l=list(range(101))\n",
    "print(l)\n",
    "print(\"**********************************after cube********************\")\n",
    "for i in l:\n",
    "    res.append(pow(i, 3))\n",
    "print(res)\n",
    "print(\"**********************************Final list********************\")\n",
    "for i in range(len(res)):\n",
    "    if(res[i]%4==0 or res[i]%5==0):\n",
    "        final.append(res[i])\n",
    "print(final)"
   ]
  },
  {
   "cell_type": "markdown",
   "id": "384358b8",
   "metadata": {},
   "source": [
    "Q5. Write a program to filter count vowels in the below-given string.\n",
    "string = \"I want to become a data scientist\""
   ]
  },
  {
   "cell_type": "code",
   "execution_count": 6,
   "id": "7ce25064",
   "metadata": {},
   "outputs": [
    {
     "name": "stdout",
     "output_type": "stream",
     "text": [
      "total number of vowel: 12\n",
      "['I', 'a', 'o', 'e', 'o', 'e', 'a', 'a', 'a', 'i', 'e', 'i']\n"
     ]
    }
   ],
   "source": [
    "string=\"I want to become a data scientist\"\n",
    "vowels=\"AaEeIiOoUu\"\n",
    "final = [each for each in string if each in vowels]\n",
    "print(\"total number of vowel:\",len(final))\n",
    "print(final)\n"
   ]
  },
  {
   "cell_type": "markdown",
   "id": "e3332110",
   "metadata": {},
   "source": [
    "# Name:Shivam Tyagi"
   ]
  },
  {
   "cell_type": "markdown",
   "id": "f19394c1",
   "metadata": {},
   "source": [
    "# Mail:shivam1612tyagi@gmail.com"
   ]
  },
  {
   "cell_type": "markdown",
   "id": "a7d22e14",
   "metadata": {},
   "source": [
    "# Thank you!!"
   ]
  },
  {
   "cell_type": "code",
   "execution_count": null,
   "id": "5169d695",
   "metadata": {},
   "outputs": [],
   "source": []
  }
 ],
 "metadata": {
  "kernelspec": {
   "display_name": "Python 3 (ipykernel)",
   "language": "python",
   "name": "python3"
  },
  "language_info": {
   "codemirror_mode": {
    "name": "ipython",
    "version": 3
   },
   "file_extension": ".py",
   "mimetype": "text/x-python",
   "name": "python",
   "nbconvert_exporter": "python",
   "pygments_lexer": "ipython3",
   "version": "3.9.12"
  }
 },
 "nbformat": 4,
 "nbformat_minor": 5
}
