{
 "cells": [
  {
   "cell_type": "markdown",
   "id": "36c51a67",
   "metadata": {},
   "source": [
    "# 30th,Jan 2023 Assignment-2  "
   ]
  },
  {
   "cell_type": "markdown",
   "id": "994b649f",
   "metadata": {},
   "source": [
    "Question 1"
   ]
  },
  {
   "cell_type": "code",
   "execution_count": 1,
   "id": "3d6864ea",
   "metadata": {},
   "outputs": [
    {
     "name": "stdout",
     "output_type": "stream",
     "text": [
      "Enter the percentage:90\n",
      "Grade B\n"
     ]
    }
   ],
   "source": [
    "per=float(input(\"Enter the percentage:\"))\n",
    "if per>90:\n",
    "    print(\"Grade A\")\n",
    "elif per>80 and per<=90:\n",
    "    print(\"Grade B\")\n",
    "elif per>=60 and per<=80:\n",
    "    print(\"Grade C\")\n",
    "else:\n",
    "    print(\"Grade D\")"
   ]
  },
  {
   "cell_type": "markdown",
   "id": "6177d6c3",
   "metadata": {},
   "source": [
    "Question 2"
   ]
  },
  {
   "cell_type": "code",
   "execution_count": 2,
   "id": "4c618bbe",
   "metadata": {},
   "outputs": [
    {
     "name": "stdout",
     "output_type": "stream",
     "text": [
      "Enter the bike price:10000\n",
      "tax is: 500.0\n"
     ]
    }
   ],
   "source": [
    "tax=0\n",
    "car_price=int(input(\"Enter the bike price:\"))\n",
    "if car_price>100000:\n",
    "    tax=15/100*car_price\n",
    "elif car_price>50000 and car_price<=100000:\n",
    "    tax=10/100*car_price\n",
    "else:\n",
    "    tax=5/100*car_price\n",
    "print(\"tax is:\",tax)"
   ]
  },
  {
   "cell_type": "markdown",
   "id": "aa96ae0a",
   "metadata": {},
   "source": [
    "Question 3"
   ]
  },
  {
   "cell_type": "code",
   "execution_count": 3,
   "id": "826ad812",
   "metadata": {},
   "outputs": [
    {
     "name": "stdout",
     "output_type": "stream",
     "text": [
      "Enter the city:delhi\n",
      "Monumnet is: Red Fort\n"
     ]
    }
   ],
   "source": [
    "city=input(\"Enter the city:\")\n",
    "if city.capitalize()==\"Delhi\":\n",
    "    print(\"Monumnet is: Red Fort\")\n",
    "elif city.capitalize()==\"Agra\":\n",
    "    print(\"Monumnet is: Taj Mahal\")\n",
    "elif city.capitalize()==\"Jaipur\":\n",
    "    print(\"Monumnet is: Jal Mahal\")\n",
    "else:\n",
    "    print(\"plz enter the correct city name\")"
   ]
  },
  {
   "cell_type": "markdown",
   "id": "d3f99ca0",
   "metadata": {},
   "source": [
    "Question 4"
   ]
  },
  {
   "cell_type": "code",
   "execution_count": 15,
   "id": "d3233cb7",
   "metadata": {},
   "outputs": [
    {
     "name": "stdout",
     "output_type": "stream",
     "text": [
      "Total iteration: 1\n"
     ]
    }
   ],
   "source": [
    "count=0\n",
    "number=12\n",
    "while number>10:\n",
    "    number = number/3\n",
    "    count = count+1\n",
    "print('Total iteration:', count)"
   ]
  },
  {
   "cell_type": "markdown",
   "id": "9847612d",
   "metadata": {},
   "source": [
    "Question 5"
   ]
  },
  {
   "cell_type": "code",
   "execution_count": 1,
   "id": "01c4da73",
   "metadata": {},
   "outputs": [
    {
     "data": {
      "text/plain": [
       "'Python while loop is used to run a block code until a certain condition is met.\\n\\nThe syntax of while loop is:\\n\\nwhile condition:\\n    # body of while loop\\n\\nexample:\\ni = 1\\nn = 5\\n# while loop from i = 1 to 5\\nwhile i <= n:\\n    print(i)\\n    i = i + 1\\no/p: 1, 2,3, 4,5\\n    \\n\\nVariable      Condition: i <= n         Action\\ni = 1\\nn = 5               True               1 is printed. i is increased to 2.\\n\\ni = 2\\nn = 5               True               2 is printed. i is increased to 3.\\n\\ni = 3\\nn = 5               True               3 is printed. i is increased to 4.\\n\\ni = 4\\nn = 5               True               4 is printed. i is increased to 5.\\n\\ni = 5\\nn = 5               True               5 is printed. i is increased to 6.\\n\\ni = 6\\nn = 5               False              The loop is terminated.\\n'"
      ]
     },
     "execution_count": 1,
     "metadata": {},
     "output_type": "execute_result"
    }
   ],
   "source": [
    "'''Python while loop is used to run a block code until a certain condition is met.\n",
    "\n",
    "The syntax of while loop is:\n",
    "\n",
    "while condition:\n",
    "    # body of while loop\n",
    "\n",
    "example:\n",
    "i = 1\n",
    "n = 5\n",
    "# while loop from i = 1 to 5\n",
    "while i <= n:\n",
    "    print(i)\n",
    "    i = i + 1\n",
    "o/p: 1, 2,3, 4,5\n",
    "    \n",
    "\n",
    "Variable      Condition: i <= n         Action\n",
    "i = 1\n",
    "n = 5               True               1 is printed. i is increased to 2.\n",
    "\n",
    "i = 2\n",
    "n = 5               True               2 is printed. i is increased to 3.\n",
    "\n",
    "i = 3\n",
    "n = 5               True               3 is printed. i is increased to 4.\n",
    "\n",
    "i = 4\n",
    "n = 5               True               4 is printed. i is increased to 5.\n",
    "\n",
    "i = 5\n",
    "n = 5               True               5 is printed. i is increased to 6.\n",
    "\n",
    "i = 6\n",
    "n = 5               False              The loop is terminated.\n",
    "'''"
   ]
  },
  {
   "cell_type": "markdown",
   "id": "fb9dc256",
   "metadata": {},
   "source": [
    "Question 6"
   ]
  },
  {
   "cell_type": "code",
   "execution_count": 4,
   "id": "1de048ee",
   "metadata": {},
   "outputs": [
    {
     "name": "stdout",
     "output_type": "stream",
     "text": [
      "1 \n",
      "1 2 \n",
      "1 2 3 \n",
      "1 2 3 4 \n",
      "1 2 3 4 5 \n"
     ]
    }
   ],
   "source": [
    "i=1\n",
    "while i<=5:\n",
    "    j=1\n",
    "    while j<=i:\n",
    "        print(j,end=\" \")\n",
    "        j=j+1\n",
    "    print(\"\")\n",
    "    i=i+1"
   ]
  },
  {
   "cell_type": "code",
   "execution_count": 5,
   "id": "6a54f0ea",
   "metadata": {},
   "outputs": [
    {
     "name": "stdout",
     "output_type": "stream",
     "text": [
      "* * * * * \n",
      "* * * * \n",
      "* * * \n",
      "* * \n",
      "* \n"
     ]
    }
   ],
   "source": [
    "n = 5\n",
    "i = 1\n",
    "while i <= n:\n",
    "    j = n\n",
    "    while j >= i:\n",
    "        print(\"*\", end = \" \")\n",
    "        j -= 1\n",
    "    print()\n",
    "    i += 1\n"
   ]
  },
  {
   "cell_type": "code",
   "execution_count": 8,
   "id": "229a68b6",
   "metadata": {},
   "outputs": [
    {
     "name": "stdout",
     "output_type": "stream",
     "text": [
      "* \r\n",
      "* * \r\n",
      "* * * \r\n",
      "* * * * \r\n",
      "* * * * * \r\n"
     ]
    }
   ],
   "source": [
    "n=5\n",
    "i=1;j=0\n",
    "\n",
    "while(j<=i-1):\n",
    "    print(\"* \",end=\"\")\n",
    "        j+=1\n",
    "    print(\"\\r\")\n",
    "    j=0;i+=1"
   ]
  },
  {
   "cell_type": "markdown",
   "id": "17fc6443",
   "metadata": {},
   "source": [
    "Question 7"
   ]
  },
  {
   "cell_type": "code",
   "execution_count": 9,
   "id": "07763972",
   "metadata": {},
   "outputs": [
    {
     "name": "stdout",
     "output_type": "stream",
     "text": [
      "10\n",
      "9\n",
      "8\n",
      "7\n",
      "6\n",
      "5\n",
      "4\n",
      "3\n",
      "2\n",
      "1\n"
     ]
    }
   ],
   "source": [
    "i = 10\n",
    "while i > 0:\n",
    "    print(i)\n",
    "    i = i - 1"
   ]
  },
  {
   "cell_type": "markdown",
   "id": "296e2611",
   "metadata": {},
   "source": [
    "Question 10 \n"
   ]
  },
  {
   "cell_type": "code",
   "execution_count": 11,
   "id": "18a9fb9a",
   "metadata": {},
   "outputs": [
    {
     "name": "stdout",
     "output_type": "stream",
     "text": [
      "10 9 8 7 6 5 4 3 2 1 "
     ]
    }
   ],
   "source": [
    "# same question as 9\n",
    "i = 10\n",
    "while i > 0:\n",
    "    print(i,end=\" \")\n",
    "    i = i - 1"
   ]
  },
  {
   "cell_type": "markdown",
   "id": "62051af5",
   "metadata": {},
   "source": [
    "# Name:Shivam Tyagi"
   ]
  },
  {
   "cell_type": "markdown",
   "id": "7680fed7",
   "metadata": {},
   "source": [
    "# Mail:shivam1612tyagi@gmail.com"
   ]
  },
  {
   "cell_type": "markdown",
   "id": "b1111adc",
   "metadata": {},
   "source": [
    "# Thank you!!"
   ]
  },
  {
   "cell_type": "code",
   "execution_count": null,
   "id": "01ad3567",
   "metadata": {},
   "outputs": [],
   "source": []
  }
 ],
 "metadata": {
  "kernelspec": {
   "display_name": "Python 3 (ipykernel)",
   "language": "python",
   "name": "python3"
  },
  "language_info": {
   "codemirror_mode": {
    "name": "ipython",
    "version": 3
   },
   "file_extension": ".py",
   "mimetype": "text/x-python",
   "name": "python",
   "nbconvert_exporter": "python",
   "pygments_lexer": "ipython3",
   "version": "3.9.12"
  }
 },
 "nbformat": 4,
 "nbformat_minor": 5
}
