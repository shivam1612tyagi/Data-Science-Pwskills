{
 "cells": [
  {
   "cell_type": "markdown",
   "id": "5e6faf2b",
   "metadata": {},
   "source": [
    "# 5th feb,2023 Assignment -------------------------------- Shivam Tyagi"
   ]
  },
  {
   "cell_type": "markdown",
   "id": "7b75bbd0",
   "metadata": {},
   "source": [
    "Q1. Explain Class and Object with respect to Object-Oriented Programming. Give a suitable example."
   ]
  },
  {
   "cell_type": "code",
   "execution_count": null,
   "id": "4f581e86",
   "metadata": {},
   "outputs": [],
   "source": [
    "Answer: \n",
    "Class: The class is a user-defined data structure that binds the data members and methods into a single unit. \n",
    "       Class is a blueprint or code template for object creation. Using a class, we can create as many objects as we want.\n",
    "        \n",
    "Object: An object is an instance of a class. It is a collection of attributes (variables) and methods. We use the object of a\n",
    "        class to perform actions.\n",
    "        \n",
    "Example"
   ]
  },
  {
   "cell_type": "code",
   "execution_count": 1,
   "id": "e2b60dd3",
   "metadata": {},
   "outputs": [],
   "source": [
    "class Person:\n",
    "    def __init__(self, name, sex, profession):\n",
    "        # data members (instance variables)\n",
    "        self.name = name\n",
    "        self.sex = sex\n",
    "        self.profession = profession\n",
    "\n",
    "    def show(self):\n",
    "        print('Name:', self.name, 'Sex:', self.sex, 'Profession:', self.profession)\n",
    "\n",
    "    def work(self):\n",
    "        print(self.name, 'working as a', self.profession)"
   ]
  },
  {
   "cell_type": "code",
   "execution_count": 2,
   "id": "1535d181",
   "metadata": {},
   "outputs": [],
   "source": [
    "# create object of a class\n",
    "jessa = Person('Jessa', 'Female', 'Software Engineer')"
   ]
  },
  {
   "cell_type": "code",
   "execution_count": 4,
   "id": "4c09436e",
   "metadata": {},
   "outputs": [
    {
     "name": "stdout",
     "output_type": "stream",
     "text": [
      "Name: Jessa Sex: Female Profession: Software Engineer\n"
     ]
    }
   ],
   "source": [
    "jessa.show()"
   ]
  },
  {
   "cell_type": "code",
   "execution_count": 5,
   "id": "90d458a1",
   "metadata": {},
   "outputs": [
    {
     "name": "stdout",
     "output_type": "stream",
     "text": [
      "Jessa working as a Software Engineer\n"
     ]
    }
   ],
   "source": [
    "jessa.work()"
   ]
  },
  {
   "cell_type": "markdown",
   "id": "d96df97a",
   "metadata": {},
   "source": [
    "Q2. Name the four pillars of OOPs."
   ]
  },
  {
   "cell_type": "markdown",
   "id": "6500b6d6",
   "metadata": {},
   "source": [
    "Answer: These four pillars are Inheritance, Polymorphism, Encapsulation and Abstraction."
   ]
  },
  {
   "cell_type": "markdown",
   "id": "3bcf6db2",
   "metadata": {},
   "source": [
    "Q3. Explain why the __init__() function is used. Give a suitable example."
   ]
  },
  {
   "cell_type": "code",
   "execution_count": null,
   "id": "3781d229",
   "metadata": {},
   "outputs": [],
   "source": [
    "Answer: \n",
    "1. __init__ is a reserved method in Python that behaves like any other member function of the class, except the statements written \n",
    "under its definition are used to initialize the data members of a class.\n",
    "\n",
    "2. we passed the arguments to the object when we created it.\n",
    "3. this type of function is also known as the constructor function. A constructor finction is a function that is called every \n",
    "   time a new class object is created. "
   ]
  },
  {
   "cell_type": "markdown",
   "id": "bfb8c8ba",
   "metadata": {},
   "source": [
    "Q4. Why self is used in OOPs?"
   ]
  },
  {
   "cell_type": "code",
   "execution_count": null,
   "id": "3ca9d712",
   "metadata": {},
   "outputs": [],
   "source": [
    "Answer:\n",
    "\n",
    "1. self allows access to the attributes and methods of each object in python. This allows each object to have its own attributes \n",
    "and methods. \n",
    "\n",
    "2. The self variable is used to represent the instance of the class which is often used in object-oriented programming. \n",
    "3.  It works as a reference to the object. Python uses the self parameter to refer to instance attributes and methods of the\n",
    "   class."
   ]
  },
  {
   "cell_type": "markdown",
   "id": "16396593",
   "metadata": {},
   "source": [
    "Q5. What is inheritance? Give an example for each type of inheritance."
   ]
  },
  {
   "cell_type": "code",
   "execution_count": null,
   "id": "bda9140a",
   "metadata": {},
   "outputs": [],
   "source": [
    "Answer:\n",
    "1. It is a mechanism that allows us to create a hierarchy of classes that share a set of properties and methods by deriving a \n",
    "   class from another class.\n",
    "2.Inheritance is the capability of one class to derive or inherit the properties from another class. \n",
    "3.It represents real-world relationships well.\n",
    "4.It provides the reusability of a code. \n",
    "5.It is transitive in nature, which means that if class B inherits from another class A, then all the subclasses of B would \n",
    "  automatically inherit from class A.\n",
    "    "
   ]
  },
  {
   "cell_type": "code",
   "execution_count": null,
   "id": "b28ac6f0",
   "metadata": {},
   "outputs": [],
   "source": [
    "Different types of Inheritance:\n",
    "    \n",
    "1. Single inheritance: When a child class inherits from only one parent class, it is called single inheritance. \n",
    "\n",
    "Example:        "
   ]
  },
  {
   "cell_type": "code",
   "execution_count": 4,
   "id": "fc848051",
   "metadata": {},
   "outputs": [
    {
     "name": "stdout",
     "output_type": "stream",
     "text": [
      "Hello Parent\n",
      "Hello Child\n"
     ]
    }
   ],
   "source": [
    "class parent:                  # parent class\n",
    "    def func1(self):\n",
    "        print(\"Hello Parent\")\n",
    "class child(parent):    \n",
    "  # child class\n",
    "    def func2(self):                 # we include the parent class\n",
    "        print(\"Hello Child\")   # as an argument in the child\n",
    "                               # class\n",
    " \n",
    "# Driver Code\n",
    "test = child()                 # object created\n",
    "test.func1()                   # parent method called via child object\n",
    "test.func2()                   # child method called"
   ]
  },
  {
   "cell_type": "code",
   "execution_count": null,
   "id": "298312ca",
   "metadata": {},
   "outputs": [],
   "source": [
    "2. Multiple Inheritance \n",
    "In multiple inheritance, a single child class is inherited from two or more parent classes. It means the child class has access \n",
    "to all the parent classes' methods and attributes."
   ]
  },
  {
   "cell_type": "code",
   "execution_count": 6,
   "id": "c9f73210",
   "metadata": {},
   "outputs": [
    {
     "name": "stdout",
     "output_type": "stream",
     "text": [
      "Hello Parent1\n",
      "Hello Parent2\n",
      "Hello Child\n"
     ]
    }
   ],
   "source": [
    "class parent1:                     # first parent class\n",
    "    def func1(self):                   \n",
    "        print(\"Hello Parent1\")\n",
    "class parent2:                     # second parent class\n",
    "    def func2(self):                   \n",
    "        print(\"Hello Parent2\")\n",
    "class parent3:                     # third parent class\n",
    "    def func2(self):                     # the function name is same as parent2\n",
    "        print(\"Hello Parent3\")\n",
    "class child(parent1, parent2, parent3):     # child class\n",
    "    def func3(self):                     # we include the parent classes\n",
    "        print(\"Hello Child\")       # as an argument comma separated\n",
    "                           \n",
    "# Driver Code\n",
    "test = child()        # object created\n",
    "test.func1()          # parent1 method called via child\n",
    "test.func2()          # parent2 method called via child instead of parent3\n",
    "test.func3()          # child method called\n"
   ]
  },
  {
   "cell_type": "code",
   "execution_count": null,
   "id": "38648c61",
   "metadata": {},
   "outputs": [],
   "source": [
    "3. Multilevel Inheritance\n",
    "\n",
    "When we have a child and grandchild relationship."
   ]
  },
  {
   "cell_type": "code",
   "execution_count": 7,
   "id": "255c29d0",
   "metadata": {},
   "outputs": [
    {
     "name": "stdout",
     "output_type": "stream",
     "text": [
      "Hello Grandparent\n",
      "Hello Parent\n",
      "Hello Child\n"
     ]
    }
   ],
   "source": [
    "class grandparent:                 # first level\n",
    "    def func1(self):                   \n",
    "        print(\"Hello Grandparent\")\n",
    "class parent(grandparent):         # second level\n",
    "    def func2(self):                   \n",
    "        print(\"Hello Parent\")\n",
    "class child(parent):               # third level\n",
    "    def func3(self):                   \n",
    "        print(\"Hello Child\")   \n",
    "                               \n",
    " \n",
    "# Driver Code\n",
    "test = child()                     # object created\n",
    "test.func1()                       # 3rd level calls 1st level\n",
    "test.func2()                       # 3rd level calls 2nd level\n",
    "test.func3()                       # 3rd level calls 3rd level\n"
   ]
  },
  {
   "cell_type": "code",
   "execution_count": null,
   "id": "d4ec6b39",
   "metadata": {},
   "outputs": [],
   "source": [
    "4. Hierarchical Inheritance in Python\n",
    "\n",
    "Hierarchical Inheritance is the right opposite of multiple inheritance. It means that, there are multiple derived child classes\n",
    "from a single parent class."
   ]
  },
  {
   "cell_type": "code",
   "execution_count": 8,
   "id": "7c822b27",
   "metadata": {},
   "outputs": [
    {
     "name": "stdout",
     "output_type": "stream",
     "text": [
      "Hello Parent\n",
      "Hello Child1\n",
      "Hello Parent\n",
      "Hello Child2\n"
     ]
    }
   ],
   "source": [
    "class parent:                       # parent class\n",
    "    def func1(self):                   \n",
    "        print(\"Hello Parent\")\n",
    "class child1(parent):               # first child class\n",
    "    def func2(self):                   \n",
    "        print(\"Hello Child1\")\n",
    " \n",
    " \n",
    "class child2(parent):               # second child class\n",
    "    def func3(self):                   \n",
    "        print(\"Hello Child2\")   \n",
    "                               \n",
    " \n",
    "# Driver Code\n",
    "test1 = child1()                     # objects created\n",
    "test2 = child2() \n",
    " \n",
    "test1.func1()                       # child1 calling parent method\n",
    "test1.func2()                       # child1 calling its own method\n",
    " \n",
    "test2.func1()                       # child2 calling parent method\n",
    "test2.func3()                       # child2 calling its own method\n"
   ]
  },
  {
   "cell_type": "markdown",
   "id": "fc213d5a",
   "metadata": {},
   "source": [
    "# Name:Shivam Tyagi"
   ]
  },
  {
   "cell_type": "markdown",
   "id": "d564e729",
   "metadata": {},
   "source": [
    "# E-mail:shivam1612tygai@gmail.com"
   ]
  },
  {
   "cell_type": "markdown",
   "id": "7870bbcf",
   "metadata": {},
   "source": [
    "# Thank You!!"
   ]
  },
  {
   "cell_type": "code",
   "execution_count": null,
   "id": "fe3c4b33",
   "metadata": {},
   "outputs": [],
   "source": []
  }
 ],
 "metadata": {
  "kernelspec": {
   "display_name": "Python 3 (ipykernel)",
   "language": "python",
   "name": "python3"
  },
  "language_info": {
   "codemirror_mode": {
    "name": "ipython",
    "version": 3
   },
   "file_extension": ".py",
   "mimetype": "text/x-python",
   "name": "python",
   "nbconvert_exporter": "python",
   "pygments_lexer": "ipython3",
   "version": "3.9.7"
  }
 },
 "nbformat": 4,
 "nbformat_minor": 5
}
