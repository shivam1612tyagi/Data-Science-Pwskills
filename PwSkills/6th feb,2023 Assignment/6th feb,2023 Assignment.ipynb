{
 "cells": [
  {
   "cell_type": "markdown",
   "id": "d8da0450",
   "metadata": {},
   "source": [
    "# 6th feb,2023 Assignment ------------------------------------ Shivam Tyagi"
   ]
  },
  {
   "cell_type": "code",
   "execution_count": null,
   "id": "1a73dfae",
   "metadata": {},
   "outputs": [],
   "source": [
    "Q1. Create a function which will take a list as an argument and return the product of all the numbers\n",
    "after creating a flat list.\n",
    "Use the below-given list as an argument for your function.\n",
    "list1 = [1,2,3,4, [44,55,66, True], False, (34,56,78,89,34), {1,2,3,3,2,1}, {1:34, \"key2\": [55, 67, 78, 89], 4: (45,\n",
    "22, 61, 34)}, [56, 'data science'], 'Machine Learning']\n",
    "Note: you must extract numeric keys and values of the dictionary also."
   ]
  },
  {
   "cell_type": "code",
   "execution_count": 2,
   "id": "5d1c2769",
   "metadata": {},
   "outputs": [],
   "source": [
    "list1 = [1,2,3,4, [44,55,66, True], False, (34,56,78,89,34), {1,2,3,3,2,1}, {1:34, \"key2\": [55, 67, 78, 89], 4: (45,\n",
    "22, 61, 34)}, [56, 'data science'], 'Machine Learning']"
   ]
  },
  {
   "cell_type": "code",
   "execution_count": 3,
   "id": "9a6ef90e",
   "metadata": {},
   "outputs": [],
   "source": [
    "from functools import reduce"
   ]
  },
  {
   "cell_type": "code",
   "execution_count": 12,
   "id": "3c4645c0",
   "metadata": {},
   "outputs": [],
   "source": [
    "def number(list1):\n",
    "    new=[] #new filter list\n",
    "    for i in list1:\n",
    "        if str(i).isnumeric(): \n",
    "            new.append(i)\n",
    "            \n",
    "        elif type(i)==list or type(i)==tuple or type(i)==set:\n",
    "            for j in i:\n",
    "                if str(j).isnumeric():\n",
    "                    new.append(j)\n",
    "        \n",
    "        elif type(i)==dict:\n",
    "            for key,value in i.items():\n",
    "                if str(key).isnumeric():\n",
    "                    new.append(key)\n",
    "                if str(key).isalnum() and (type(value)==list or type(value)==tuple):\n",
    "                    for t in value:\n",
    "                        if str(j).isnumeric():\n",
    "                            new.append(t)\n",
    "    return new"
   ]
  },
  {
   "cell_type": "code",
   "execution_count": 13,
   "id": "cd53bc7f",
   "metadata": {},
   "outputs": [],
   "source": [
    "a=number(list1)"
   ]
  },
  {
   "cell_type": "code",
   "execution_count": 14,
   "id": "07f425d4",
   "metadata": {},
   "outputs": [
    {
     "name": "stdout",
     "output_type": "stream",
     "text": [
      "filter list are as follow:\n",
      "[1, 2, 3, 4, 44, 55, 66, 34, 56, 78, 89, 34, 1, 2, 3, 1, 55, 67, 78, 89, 4, 45, 22, 61, 34, 56] "
     ]
    }
   ],
   "source": [
    "print(\"filter list are as follow:\")\n",
    "print(a,end=\" \")"
   ]
  },
  {
   "cell_type": "code",
   "execution_count": 15,
   "id": "1d560e0d",
   "metadata": {},
   "outputs": [],
   "source": [
    "product=reduce(lambda x,y : x*y,a )"
   ]
  },
  {
   "cell_type": "code",
   "execution_count": 16,
   "id": "ac4602b4",
   "metadata": {},
   "outputs": [
    {
     "data": {
      "text/plain": [
       "121609171734914278789230624768000"
      ]
     },
     "execution_count": 16,
     "metadata": {},
     "output_type": "execute_result"
    }
   ],
   "source": [
    "product"
   ]
  },
  {
   "cell_type": "code",
   "execution_count": null,
   "id": "8fe3bb64",
   "metadata": {},
   "outputs": [],
   "source": [
    "Q2. Write a python program for encrypting a message sent to you by your friend. The logic of encryption\n",
    "should be such that, for a the output should be z. For b, the output should be y. For c, the output should\n",
    "be x respectively. Also, the whitespace should be replaced with a dollar sign. Keep the punctuation\n",
    "marks unchanged.\n",
    "Input Sentence: I want to become a Data Scientist.\n",
    "Encrypt the above input sentence using the program you just created.\n",
    "Note: Convert the given input sentence into lowercase before encrypting. The final output should be\n",
    "lowercase."
   ]
  },
  {
   "cell_type": "code",
   "execution_count": 23,
   "id": "03fb810d",
   "metadata": {},
   "outputs": [],
   "source": [
    "def text3(x):\n",
    "    x=x.lower()\n",
    "    dict={\n",
    "         'a': 'z',\n",
    "         'b': 'y',\n",
    "         'c': 'x',\n",
    "         'd': 'w',\n",
    "         'e': 'v',\n",
    "         'f': 'u',\n",
    "         'g': 't',\n",
    "         'h': 's',\n",
    "         'i': 'r',\n",
    "         'j': 'q',\n",
    "         'k': 'p',\n",
    "         'l': 'o',\n",
    "         'm': 'n',\n",
    "         'n': 'm',\n",
    "         'o': 'l',\n",
    "         'p': 'k',\n",
    "         'q': 'j',\n",
    "         'r': 'i',\n",
    "         's': 'h',\n",
    "         't': 'g',\n",
    "         'u': 'f',\n",
    "         'v': 'e',\n",
    "         'w': 'd',\n",
    "         'x': 'c',\n",
    "         'y': 'b',\n",
    "         'z': 'a'\n",
    "    }\n",
    "    for i in x:\n",
    "        if i!=\" \":\n",
    "            x=x.replace(i,dict[i])\n",
    "        else:\n",
    "            x=x.replace(\" \",\"$\") \n",
    "    return x"
   ]
  },
  {
   "cell_type": "code",
   "execution_count": 24,
   "id": "bac1a99f",
   "metadata": {},
   "outputs": [
    {
     "name": "stdout",
     "output_type": "stream",
     "text": [
      "{'a': 'z'}\n",
      "{'b': 'y'}\n",
      "{'c': 'x'}\n",
      "{'d': 'w'}\n",
      "{'e': 'v'}\n",
      "{'f': 'u'}\n",
      "{'g': 't'}\n",
      "{'h': 's'}\n",
      "{'i': 'r'}\n",
      "{'j': 'q'}\n",
      "{'k': 'p'}\n",
      "{'l': 'o'}\n",
      "{'m': 'n'}\n",
      "{'n': 'm'}\n",
      "{'o': 'l'}\n",
      "{'p': 'k'}\n",
      "{'q': 'j'}\n",
      "{'r': 'i'}\n",
      "{'s': 'h'}\n",
      "{'t': 'g'}\n",
      "{'u': 'f'}\n",
      "{'v': 'e'}\n",
      "{'w': 'd'}\n",
      "{'x': 'c'}\n",
      "{'y': 'b'}\n",
      "{'z': 'a'}\n"
     ]
    }
   ],
   "source": [
    "#only for check purpose\n",
    "aaa=\"abcdefghijklmnopqrstuvwxyz\"\n",
    "for i in aaa:\n",
    "    print({i:text3(i)})"
   ]
  },
  {
   "cell_type": "code",
   "execution_count": 25,
   "id": "1ba852cd",
   "metadata": {},
   "outputs": [
    {
     "data": {
      "text/plain": [
       "'$r$wzmg$gl$yvxlmv$z$wzgz$hxrvmgrhg'"
      ]
     },
     "execution_count": 25,
     "metadata": {},
     "output_type": "execute_result"
    }
   ],
   "source": [
    "text1=\" I want to become a Data Scientist\"\n",
    "text3(text1)"
   ]
  },
  {
   "cell_type": "markdown",
   "id": "82a293cb",
   "metadata": {},
   "source": [
    "# Name: Shivam Tyagi"
   ]
  },
  {
   "cell_type": "markdown",
   "id": "b0a1ac27",
   "metadata": {},
   "source": [
    "# Email: shivam1612tyagi@gmail.com"
   ]
  },
  {
   "cell_type": "markdown",
   "id": "62b75aa1",
   "metadata": {},
   "source": [
    "# Thank You!!"
   ]
  },
  {
   "cell_type": "code",
   "execution_count": null,
   "id": "ba5a08c4",
   "metadata": {},
   "outputs": [],
   "source": []
  }
 ],
 "metadata": {
  "kernelspec": {
   "display_name": "Python 3 (ipykernel)",
   "language": "python",
   "name": "python3"
  },
  "language_info": {
   "codemirror_mode": {
    "name": "ipython",
    "version": 3
   },
   "file_extension": ".py",
   "mimetype": "text/x-python",
   "name": "python",
   "nbconvert_exporter": "python",
   "pygments_lexer": "ipython3",
   "version": "3.9.12"
  }
 },
 "nbformat": 4,
 "nbformat_minor": 5
}
