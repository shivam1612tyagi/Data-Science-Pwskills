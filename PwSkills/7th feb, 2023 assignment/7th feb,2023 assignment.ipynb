{
 "cells": [
  {
   "cell_type": "markdown",
   "id": "60c0f62a",
   "metadata": {},
   "source": [
    "# 7th Feb,2023 Assignment ------------------- Shivam Tyagi"
   ]
  },
  {
   "cell_type": "code",
   "execution_count": null,
   "id": "ea2e194a",
   "metadata": {},
   "outputs": [],
   "source": [
    "Q1. You are writing code for a company. The requirement of the company is that you create a python\n",
    "function that will check whether the password entered by the user is correct or not. The function should\n",
    "take the password as input and return the string “Valid Password” if the entered password follows the\n",
    "below-given password guidelines else it should return “Invalid Password”.\n",
    "Note: 1. The Password should contain at least two uppercase letters and at least two lowercase letters.\n",
    "2. The Password should contain at least a number and three special characters.\n",
    "3. The length of the password should be 10 characters long."
   ]
  },
  {
   "cell_type": "code",
   "execution_count": 1,
   "id": "1abeeffb",
   "metadata": {},
   "outputs": [],
   "source": [
    "def password(s):\n",
    "    lower,upper,special,digit=0,0,0,0\n",
    "    if(len(s)>=10):\n",
    "        for i in s:\n",
    "            if(i.islower()):\n",
    "                lower=lower+1\n",
    "            if(i.isupper()):\n",
    "                upper=upper+1\n",
    "            if(i.isdigit()):\n",
    "                digit=digit+1\n",
    "            if(i=='[' or i=='@' or i=='_' or i=='!' or i=='#' or i=='$' or i=='%' or i=='^' or i=='&' or i=='*' or \n",
    "               i=='(' or i==')' or i=='<' or i=='>' or i==\"?\" or i=='/' or i=='|' or i=='}' or i=='{' or i==']'):\n",
    "                special=special+1\n",
    "    if(lower>=2 and upper>=2 and special>=3 and digit>=1 and (lower+upper+special+digit)>=len(s)):\n",
    "        return(\"Valid password\")\n",
    "    else:\n",
    "        return(\"Invalid password\")\n",
    "            "
   ]
  },
  {
   "cell_type": "code",
   "execution_count": 2,
   "id": "c271cad8",
   "metadata": {},
   "outputs": [
    {
     "name": "stdout",
     "output_type": "stream",
     "text": [
      "enter the password:abSD@#$&1234\n"
     ]
    },
    {
     "data": {
      "text/plain": [
       "'Valid password'"
      ]
     },
     "execution_count": 2,
     "metadata": {},
     "output_type": "execute_result"
    }
   ],
   "source": [
    "s=input(\"enter the password:\")\n",
    "password(s)"
   ]
  },
  {
   "cell_type": "code",
   "execution_count": null,
   "id": "9adae840",
   "metadata": {},
   "outputs": [],
   "source": [
    "Q2. Solve the below-given questions using at least one of the following:\n",
    "1. Lambda function\n",
    "2. Filter function\n",
    "3. Zap function\n",
    "4. List Comprehension\n",
    "\n",
    "1. Check if the string starts with a particular letter\n",
    "2. Check if the string is numeric\n",
    "3. Sort a list of tuples having fruit names and their quantity. [(\"mango\",99),(\"orange\",80), (\"grapes\", 1000)]\n",
    "4. Find the squares of numbers from 1 to 10\n",
    "5. Find the cube root of numbers from 1 to 10\n",
    "6. Check if a given number is even\n",
    "7. Filter odd numbers from the given list.[1,2,3,4,5,6,7,8,9,10]\n",
    "8. Sort a list of integers into positive and negative integers lists.[1,2,3,4,5,6,-1,-2,-3,-4,-5,0]"
   ]
  },
  {
   "cell_type": "markdown",
   "id": "97546f8f",
   "metadata": {},
   "source": [
    "Check if the string starts with a particular letter"
   ]
  },
  {
   "cell_type": "code",
   "execution_count": 3,
   "id": "0624526d",
   "metadata": {},
   "outputs": [
    {
     "name": "stdout",
     "output_type": "stream",
     "text": [
      "enter the string:India\n",
      "enter the letter you want to checkI\n"
     ]
    }
   ],
   "source": [
    "string1=input(\"enter the string:\")\n",
    "check=input(\"enter the letter you want to check\")"
   ]
  },
  {
   "cell_type": "code",
   "execution_count": 4,
   "id": "8066641d",
   "metadata": {},
   "outputs": [
    {
     "name": "stdout",
     "output_type": "stream",
     "text": [
      "yes\n"
     ]
    }
   ],
   "source": [
    "ch=lambda string1:\"yes\" if string1.startswith(check) else \"no\"\n",
    "print(ch(string1))"
   ]
  },
  {
   "cell_type": "markdown",
   "id": "6c5631b3",
   "metadata": {},
   "source": [
    "Check if the string is numeric"
   ]
  },
  {
   "cell_type": "code",
   "execution_count": 5,
   "id": "fac0b43a",
   "metadata": {},
   "outputs": [
    {
     "name": "stdout",
     "output_type": "stream",
     "text": [
      "enter the string:123\n"
     ]
    }
   ],
   "source": [
    "string=input(\"enter the string:\")"
   ]
  },
  {
   "cell_type": "code",
   "execution_count": 7,
   "id": "93789646",
   "metadata": {},
   "outputs": [
    {
     "name": "stdout",
     "output_type": "stream",
     "text": [
      "STRING IS NUMBERIC\n"
     ]
    }
   ],
   "source": [
    "check=lambda string:\"STRING IS NUMBERIC\" if string.isnumeric() else \"not a numeric\"\n",
    "print(check(string))"
   ]
  },
  {
   "cell_type": "markdown",
   "id": "05bbec73",
   "metadata": {},
   "source": [
    "Sort a list of tuples having fruit names and their quantity. [(\"mango\",99),(\"orange\",80), (\"grapes\", 1000)]"
   ]
  },
  {
   "cell_type": "code",
   "execution_count": 8,
   "id": "5dc2dccb",
   "metadata": {},
   "outputs": [
    {
     "data": {
      "text/plain": [
       "[('orange', 80), ('mango', 99), ('grapes', 1000)]"
      ]
     },
     "execution_count": 8,
     "metadata": {},
     "output_type": "execute_result"
    }
   ],
   "source": [
    "fruits=[(\"mango\",99),(\"orange\",80), (\"grapes\", 1000)]\n",
    "sorted_furits=sorted(fruits,key=lambda x: x[1])\n",
    "sorted_furits"
   ]
  },
  {
   "cell_type": "markdown",
   "id": "178083b6",
   "metadata": {},
   "source": [
    "Find the squares of numbers from 1 to 10"
   ]
  },
  {
   "cell_type": "code",
   "execution_count": 9,
   "id": "c04615b2",
   "metadata": {},
   "outputs": [],
   "source": [
    "squares = [value ** 2 for value in range(1,11)]"
   ]
  },
  {
   "cell_type": "code",
   "execution_count": 10,
   "id": "8f00f3f8",
   "metadata": {},
   "outputs": [
    {
     "data": {
      "text/plain": [
       "[1, 4, 9, 16, 25, 36, 49, 64, 81, 100]"
      ]
     },
     "execution_count": 10,
     "metadata": {},
     "output_type": "execute_result"
    }
   ],
   "source": [
    "squares"
   ]
  },
  {
   "cell_type": "code",
   "execution_count": 11,
   "id": "a11ce5e3",
   "metadata": {},
   "outputs": [
    {
     "name": "stdout",
     "output_type": "stream",
     "text": [
      "3.0\n"
     ]
    }
   ],
   "source": [
    "#for check purpose only\n",
    "a=27\n",
    "print(a**(1/3))"
   ]
  },
  {
   "cell_type": "markdown",
   "id": "688d5b69",
   "metadata": {},
   "source": [
    "Find the cube root of numbers from 1 to 10"
   ]
  },
  {
   "cell_type": "code",
   "execution_count": 12,
   "id": "94d7b5c0",
   "metadata": {},
   "outputs": [],
   "source": [
    "cube = [value ** (1/3) for value in range(1,11)]"
   ]
  },
  {
   "cell_type": "code",
   "execution_count": 13,
   "id": "f6c6111f",
   "metadata": {},
   "outputs": [
    {
     "name": "stdout",
     "output_type": "stream",
     "text": [
      "[1.0, 1.2599210498948732, 1.4422495703074083, 1.5874010519681994, 1.7099759466766968, 1.8171205928321397, 1.912931182772389, 2.0, 2.080083823051904, 2.154434690031884] "
     ]
    }
   ],
   "source": [
    "print(cube,end=\" \")"
   ]
  },
  {
   "cell_type": "markdown",
   "id": "262d56c3",
   "metadata": {},
   "source": [
    "Check if a given number is even"
   ]
  },
  {
   "cell_type": "code",
   "execution_count": 14,
   "id": "709f2288",
   "metadata": {},
   "outputs": [
    {
     "name": "stdout",
     "output_type": "stream",
     "text": [
      "enter your number:4\n"
     ]
    }
   ],
   "source": [
    "number=int(input(\"enter your number:\"))"
   ]
  },
  {
   "cell_type": "code",
   "execution_count": 15,
   "id": "15d58fb9",
   "metadata": {},
   "outputs": [
    {
     "name": "stdout",
     "output_type": "stream",
     "text": [
      "even number\n"
     ]
    }
   ],
   "source": [
    "even_number=lambda number:\"even number\" if number%2==0 else \"not a even number\"\n",
    "print(even_number(number))"
   ]
  },
  {
   "cell_type": "markdown",
   "id": "2d77c3bf",
   "metadata": {},
   "source": [
    "Filter odd numbers from the given list.[1,2,3,4,5,6,7,8,9,10]"
   ]
  },
  {
   "cell_type": "code",
   "execution_count": 17,
   "id": "faea532f",
   "metadata": {},
   "outputs": [
    {
     "name": "stdout",
     "output_type": "stream",
     "text": [
      "odd number are as follow:\n",
      "[1, 3, 5, 7, 9]\n"
     ]
    }
   ],
   "source": [
    "list1=[1,2,3,4,5,6,7,8,9,10]\n",
    "print(\"odd number are as follow:\")\n",
    "ODDNumbers = list(filter(lambda x: x%2 != 0, list1))\n",
    "print(ODDNumbers)"
   ]
  },
  {
   "cell_type": "markdown",
   "id": "ebb25aec",
   "metadata": {},
   "source": [
    "Sort a list of integers into positive and negative integers lists. [1,2,3,4,5,6,-1,-2,-3,-4,-5,0]"
   ]
  },
  {
   "cell_type": "code",
   "execution_count": 18,
   "id": "11d1d6bd",
   "metadata": {},
   "outputs": [
    {
     "name": "stdout",
     "output_type": "stream",
     "text": [
      "positive integer list are as follow:\n",
      "[0, 1, 2, 3, 4, 5, 6]\n",
      "negative integer list are as follow:\n",
      "[-5, -4, -3, -2, -1]\n"
     ]
    }
   ],
   "source": [
    "test_list=[1,2,3,4,5,6,-1,-2,-3,-4,-5,0]\n",
    "positive_nums = [x for x in test_list if x >= 0]\n",
    "positive_nums.sort()\n",
    "negative_nums = [x for x in test_list if x < 0]\n",
    "negative_nums.sort()\n",
    "print(\"positive integer list are as follow:\")\n",
    "print(positive_nums)\n",
    "print(\"negative integer list are as follow:\")\n",
    "print(negative_nums)"
   ]
  },
  {
   "cell_type": "code",
   "execution_count": 19,
   "id": "3259d4dd",
   "metadata": {},
   "outputs": [
    {
     "name": "stdout",
     "output_type": "stream",
     "text": [
      "final combine list are as follow:\n",
      "[0, 1, 2, 3, 4, 5, 6, -5, -4, -3, -2, -1]\n"
     ]
    }
   ],
   "source": [
    "print(\"final combine list are as follow:\")\n",
    "res = positive_nums + negative_nums\n",
    "print(res)"
   ]
  },
  {
   "cell_type": "markdown",
   "id": "53f4c571",
   "metadata": {},
   "source": [
    "# Name:Shivam Tyagi"
   ]
  },
  {
   "cell_type": "markdown",
   "id": "0857c697",
   "metadata": {},
   "source": [
    "# E-mail:shivam1612tyagi@gmail.com"
   ]
  },
  {
   "cell_type": "markdown",
   "id": "5c9f868d",
   "metadata": {},
   "source": [
    "# Thank you!!"
   ]
  },
  {
   "cell_type": "code",
   "execution_count": null,
   "id": "94408093",
   "metadata": {},
   "outputs": [],
   "source": []
  }
 ],
 "metadata": {
  "kernelspec": {
   "display_name": "Python 3 (ipykernel)",
   "language": "python",
   "name": "python3"
  },
  "language_info": {
   "codemirror_mode": {
    "name": "ipython",
    "version": 3
   },
   "file_extension": ".py",
   "mimetype": "text/x-python",
   "name": "python",
   "nbconvert_exporter": "python",
   "pygments_lexer": "ipython3",
   "version": "3.9.7"
  }
 },
 "nbformat": 4,
 "nbformat_minor": 5
}
