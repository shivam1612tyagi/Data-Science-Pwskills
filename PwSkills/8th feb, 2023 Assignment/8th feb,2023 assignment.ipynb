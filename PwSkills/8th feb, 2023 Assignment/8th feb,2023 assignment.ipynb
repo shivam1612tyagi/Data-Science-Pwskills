{
 "cells": [
  {
   "cell_type": "markdown",
   "id": "2879ce5e",
   "metadata": {},
   "source": [
    "# 8th feb,2023 Assignment ------------------------------------------- Shivam Tyagi"
   ]
  },
  {
   "cell_type": "markdown",
   "id": "b9aae525",
   "metadata": {},
   "source": [
    "Q1. What is Abstraction in OOps? Explain with an example."
   ]
  },
  {
   "cell_type": "code",
   "execution_count": null,
   "id": "d18da220",
   "metadata": {},
   "outputs": [],
   "source": [
    "Answer: \n",
    "\n",
    "1. Abstraction is a fundamental concept in Object-Oriented Programming(OOP) that refers to the process of hiding complex \n",
    "   implementation details behind a simplified interface.\n",
    "2. The idea behind abstraction is to present an object or a system in a way that focuses on what it does, rather than how it \n",
    "   does it.\n",
    "    \n",
    "Example:\n",
    "\n",
    "1. we all use the social platforms and contact our friends, chat, share images etc., but we don’t know how these operations are \n",
    "   happening in the background. \n",
    "2. while visiting and reading blogs on the bloghost we tend to click on various links and perform various functions unknowingly \n",
    "   what is happening in the background. \n",
    "    "
   ]
  },
  {
   "cell_type": "markdown",
   "id": "8bf66b8e",
   "metadata": {},
   "source": [
    "Q2. Differentiate between Abstraction and Encapsulation. Explain with an example."
   ]
  },
  {
   "cell_type": "markdown",
   "id": "c497a023",
   "metadata": {},
   "source": [
    "### Abstraction"
   ]
  },
  {
   "cell_type": "markdown",
   "id": "cc8fc0ba",
   "metadata": {},
   "source": [
    "It is used to hide the unnecessary information or data from the user but shows the essential data that is useful for the user. \n",
    "It can be achieved by using the interface and the abstract class. In interfaces, only the methods are exposed to the end-user.\n",
    "\n",
    "The best example of abstraction is a TV remote. The user only interacts with the outer interface that is nothing but keys. \n",
    "The user only knows which key to press for what function."
   ]
  },
  {
   "cell_type": "markdown",
   "id": "b1bd0c5d",
   "metadata": {},
   "source": [
    "### Encapsulation"
   ]
  },
  {
   "cell_type": "code",
   "execution_count": null,
   "id": "4e84ddfd",
   "metadata": {},
   "outputs": [],
   "source": [
    "It is also a feature of OOP. It is used to bind up the data into a single unit called class. \n",
    "It provides the mechanism which is known as data hiding. It is an important feature of OOPs. \n",
    "It prevents to access data members from the outside of the class. \n",
    "It is also necessary from the security point of view.\n",
    "\n",
    "For Example:Car\n",
    "\n",
    "Encapsulation is achieved by wrapping the internal mechanics of the car within iths physical structures.,so that the user does \n",
    "not have direct access to the  engine,gears, and wheels.\n",
    "\n"
   ]
  },
  {
   "cell_type": "code",
   "execution_count": null,
   "id": "2e9eb19d",
   "metadata": {},
   "outputs": [],
   "source": [
    "In conclusion,abstraction focuses on what an object or system does,\n",
    "while encapsulaton focuses on how it is implemented and protected."
   ]
  },
  {
   "cell_type": "markdown",
   "id": "484e21eb",
   "metadata": {},
   "source": [
    "Q3. What is abc module in python? Why is it used?"
   ]
  },
  {
   "cell_type": "code",
   "execution_count": null,
   "id": "88c32c32",
   "metadata": {},
   "outputs": [],
   "source": [
    "It Is \"Abstract Base Classes\" It provides a way to define abstract classes in python, which are classes that cannot be \n",
    "instantiated on their own, but only serve as a base for other classes.\n",
    "classes that enforce certain \"ABC\" module is used to define abstract classes in python\n",
    "Python does not have native support for abstract classes.\n",
    "We can define classes that enforce certain methods to be implemented by any concrete class that extends the abstract class.\n",
    "This helps to ensure that all subclasses of the abstract class have a consistent interface,which makes it easier to write code\n",
    "that can work with objects of different types."
   ]
  },
  {
   "cell_type": "markdown",
   "id": "4ee7abbf",
   "metadata": {},
   "source": [
    "Q4. How can we achieve data abstraction?"
   ]
  },
  {
   "cell_type": "code",
   "execution_count": null,
   "id": "48df4d6f",
   "metadata": {},
   "outputs": [],
   "source": [
    "Data Abstraction in Python can be achieved through creating abstract classes and inheriting them later.\n",
    "\n",
    "Examples of Data Abstraction\n",
    "consider the Animal parent class and other child classes derived from it."
   ]
  },
  {
   "cell_type": "code",
   "execution_count": 5,
   "id": "ff5e8bcf",
   "metadata": {},
   "outputs": [],
   "source": [
    "from abc import ABC,abstractmethod\n",
    " \n",
    "class Animal(ABC):\n",
    " \n",
    "    #concrete method\n",
    "    def sleep(self):\n",
    "        print(\"I am going to sleep in a while\")\n",
    " \n",
    "    @abstractmethod\n",
    "    def sound(self):\n",
    "        print(\"This function is for defining the sound by any animal\")\n",
    "        pass\n",
    "class Snake(Animal):\n",
    "    def sound(self):\n",
    "        print(\"I can hiss\")\n",
    "class Dog(Animal):\n",
    "    def sound(self):\n",
    "        print(\"I can bark\")\n",
    "class Lion(Animal):\n",
    "    def sound(self):\n",
    "        print(\"I can roar\")\n",
    "class Cat(Animal):\n",
    "    def sound(self):\n",
    "        print(\"I can meow\")\n"
   ]
  },
  {
   "cell_type": "code",
   "execution_count": null,
   "id": "846514d8",
   "metadata": {},
   "outputs": [],
   "source": [
    "Our abstract base class has a concrete method sleep() that will be the same for all the child classes. So, we do not define it\n",
    "as an abstract method, thus saving us from code repetition. On the other hand, the sounds that animals make are all different. \n",
    "For that purpose, we defined the sound() method as an abstract method. We then implement it in all child classes.\n",
    "\n",
    "Now, when we instantiate the child class object, we can access both the concrete and the abstract methods."
   ]
  },
  {
   "cell_type": "code",
   "execution_count": 6,
   "id": "cfa50165",
   "metadata": {},
   "outputs": [
    {
     "name": "stdout",
     "output_type": "stream",
     "text": [
      "I am going to sleep in a while\n",
      "I can meow\n",
      "I can hiss\n"
     ]
    }
   ],
   "source": [
    "c = Cat()\n",
    "c.sleep()\n",
    "c.sound()\n",
    " \n",
    "c = Snake()\n",
    "c.sound()"
   ]
  },
  {
   "cell_type": "markdown",
   "id": "8ec0bd56",
   "metadata": {},
   "source": [
    "Q5. Can we create an instance of an abstract class? Explain your answer."
   ]
  },
  {
   "cell_type": "code",
   "execution_count": null,
   "id": "968ded87",
   "metadata": {},
   "outputs": [],
   "source": [
    "Answer:\n",
    "No.You cannot create an instance of an abstract class in most programming languages,including python.\n",
    "An abstract class in meant to be a blueprint for other classes,but it cannot be instatiated on its own.\n",
    "The ourpose of an abstract class is to define a common interface for a group of related classes,but not to be used as an object\n",
    "in its own right.\n",
    "    \n",
    "for example:\n",
    "Consider an abstract class 'shape' that defines a common interface for all shapes in a @D space.\n",
    "The \"shape' class might have an abstract method 'area()' that calculates the area of a shape,but it wouldn't make sense to \n",
    "create shape.\n",
    "subclasses of the 'shape' class such as 'circle' and 'rectangle', that implement the 'area' method and can be instantiated as \n",
    "objects.\n",
    "        \n",
    "In summary, an abstract class is tool for craeting a common interface for a group related classes, but it cannot be instantiated \n",
    "as an object in its own right.\n",
    "To use an abstract class, you must create a concrete sub class that implements the abstract methods defined in the base class."
   ]
  },
  {
   "cell_type": "markdown",
   "id": "35d5aa26",
   "metadata": {},
   "source": [
    "# Name:Shivam Tyagi"
   ]
  },
  {
   "cell_type": "markdown",
   "id": "daae07d1",
   "metadata": {},
   "source": [
    "# Email:shivam1612tyagi@gmail.com"
   ]
  },
  {
   "cell_type": "markdown",
   "id": "35ab6372",
   "metadata": {},
   "source": [
    "# Thank You!!"
   ]
  },
  {
   "cell_type": "code",
   "execution_count": null,
   "id": "7c8d4f95",
   "metadata": {},
   "outputs": [],
   "source": []
  }
 ],
 "metadata": {
  "kernelspec": {
   "display_name": "Python 3 (ipykernel)",
   "language": "python",
   "name": "python3"
  },
  "language_info": {
   "codemirror_mode": {
    "name": "ipython",
    "version": 3
   },
   "file_extension": ".py",
   "mimetype": "text/x-python",
   "name": "python",
   "nbconvert_exporter": "python",
   "pygments_lexer": "ipython3",
   "version": "3.9.7"
  }
 },
 "nbformat": 4,
 "nbformat_minor": 5
}
