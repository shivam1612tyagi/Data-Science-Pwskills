{
 "cells": [
  {
   "cell_type": "markdown",
   "id": "979a8cfb",
   "metadata": {},
   "source": [
    "# 8th April,2023 Assignment ------------------------- Shivam Tyagi"
   ]
  },
  {
   "cell_type": "code",
   "execution_count": null,
   "id": "f88e8884",
   "metadata": {},
   "outputs": [],
   "source": [
    "Q1. In order to predict house price based on several characteristics, such as location, square footage, number of bedrooms, etc., you are developing an SVM regression model. Which regression metric in this situation would be the best to employ?\n",
    "Dataset link: https://drive.google.com/file/d/1Z9oLpmt6IDRNw7IeNcHYTGeJRYypRSC0/view?usp=share_link\n",
    "Ans: The regression metric that is best to employ in this situation is the mean squared error (MSE).\n",
    "\n",
    "MSE measures the average of the squared differences between predicted and actual values.\n",
    "\n",
    "Since SVM regression is a type of linear regression, it tries to find a hyperplane that separates the data points in a way that maximizes the margin. The SVM regression model tries to minimize the distance between the predicted values and the actual values, and the MSE is a suitable metric to evaluate this distance. The lower the MSE, the better the model's performance."
   ]
  },
  {
   "cell_type": "code",
   "execution_count": null,
   "id": "9b3eec67",
   "metadata": {},
   "outputs": [],
   "source": [
    "Q2. You have built an SVM regression model and are trying to decide between using MSE or R-squared as your evaluation metric. Which metric would be more appropriate if your goal is to predict the actual price of a house as accurately as possible?\n",
    "Ans: If goal is to predict the actual price of a house as accurately as possible, then Mean Squared Error (MSE) would be a more appropriate evaluation metric to use than R-squared.\n",
    "\n",
    "MSE measures the average of the squared differences between predicted and actual values, and it provides an absolute measure of the quality of the model's predictions.\n",
    "\n",
    "In contrast, R-squared measures the proportion of the variance in the dependent variable (i.e., house price) that is explained by the independent variables (i.e., location, square footage, number of bedrooms, etc.).\n",
    "\n",
    "While R-squared can provide useful information about the goodness-of-fit of the model, it doesn't directly measure the accuracy of the model's predictions.\n",
    "\n",
    "Thus, a lower MSE indicates better predictive performance, as it means that the model's predicted values are closer to the actual values."
   ]
  },
  {
   "cell_type": "code",
   "execution_count": null,
   "id": "e3507f51",
   "metadata": {},
   "outputs": [],
   "source": [
    "Q3. You have a dataset with a significant number of outliers and are trying to select an appropriate regression metric to use with your SVM model. Which metric would be the most appropriate in this scenario?\n",
    "Ans: When working with a dataset that has a significant number of outliers, Mean Absolute Error (MAE) would be the most appropriate regression metric to use with your SVM model.\n",
    "\n",
    "MAE measures the average absolute difference between predicted and actual values, rather than the squared differences as in MSE.\n",
    "\n",
    "MAE is less sensitive to outliers compared to MSE, as outliers have a larger impact on the squared differences in MSE.\n",
    "\n",
    "MAE gives equal weight to all errors, regardless of their magnitude, which can make it a more robust metric when dealing with outliers."
   ]
  },
  {
   "cell_type": "code",
   "execution_count": null,
   "id": "7033d75f",
   "metadata": {},
   "outputs": [],
   "source": [
    "Q4. You have built an SVM regression model using a polynomial kernel and are trying to select the best metric to evaluate its performance. You have calculated both MSE and RMSE and found that both values are very close. Which metric should you choose to use in this case?\n",
    "Ans: If we have built an SVM regression model using a polynomial kernel and both MSE and RMSE values are very close, then either metric can be used to evaluate the performance of the model.\n",
    "\n",
    "MSE and RMSE are both measures of the error between predicted and actual values, with RMSE being the square root of MSE. RMSE is preferred when you want to penalize larger errors more heavily, and MSE is preferred when we want to give equal weight to all errors.\n",
    "\n",
    "If we want to have a metric that is easier to interpret in the original units of the response variable (i.e., house prices), then we may prefer to use RMSE.\n",
    "\n",
    "If we want a metric that is easier to calculate and compare across different models, then we may prefer to use MSE.\n",
    "\n"
   ]
  },
  {
   "cell_type": "code",
   "execution_count": null,
   "id": "142797c2",
   "metadata": {},
   "outputs": [],
   "source": [
    "Q5. You are comparing the performance of different SVM regression models using different kernels (linear, polynomial, and RBF) and are trying to select the best evaluation metric. Which metric would be most appropriate if your goal is to measure how well the model explains the variance in the target variable?\n",
    "Ans: If our goal is to measure how well the SVM regression model explains the variance in the target variable, then the most appropriate evaluation metric would be the coefficient of determination or R-squared.\n",
    "\n",
    "R-squared is a measure of the proportion of the variance in the target variable that is explained by the independent variables. In the context of SVM regression, R-squared can be used to evaluate the goodness of fit of the model and to compare the performance of different models with different kernels.\n",
    "\n",
    "Therefore, if our goal is to measure how well the SVM regression model explains the variance in the target variable, then R-squared would be the most appropriate evaluation metric to use when comparing different models with different kernels"
   ]
  },
  {
   "cell_type": "code",
   "execution_count": null,
   "id": "26a22107",
   "metadata": {},
   "outputs": [],
   "source": []
  }
 ],
 "metadata": {
  "kernelspec": {
   "display_name": "Python 3 (ipykernel)",
   "language": "python",
   "name": "python3"
  },
  "language_info": {
   "codemirror_mode": {
    "name": "ipython",
    "version": 3
   },
   "file_extension": ".py",
   "mimetype": "text/x-python",
   "name": "python",
   "nbconvert_exporter": "python",
   "pygments_lexer": "ipython3",
   "version": "3.9.12"
  }
 },
 "nbformat": 4,
 "nbformat_minor": 5
}
