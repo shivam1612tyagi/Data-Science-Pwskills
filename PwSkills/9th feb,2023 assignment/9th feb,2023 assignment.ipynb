{
 "cells": [
  {
   "cell_type": "markdown",
   "id": "5338b655",
   "metadata": {},
   "source": [
    "# 9th Feb,2023 Assignment ------------------------------------------------ Shivam Tyagi"
   ]
  },
  {
   "cell_type": "code",
   "execution_count": null,
   "id": "dc5e2a83",
   "metadata": {},
   "outputs": [],
   "source": [
    "Q1, Create a vehicle class with an init method having instance variables as name_of_vehicle, max_speed\n",
    "and average_of_vehicle."
   ]
  },
  {
   "cell_type": "code",
   "execution_count": 42,
   "id": "d0b46529",
   "metadata": {},
   "outputs": [
    {
     "name": "stdout",
     "output_type": "stream",
     "text": [
      "Name of vehicle: Car\n",
      "Max speed: 180\n",
      "Average of vehicle: 20\n"
     ]
    }
   ],
   "source": [
    "class Vehicle:\n",
    "        def __init__(self, name_of_vehicle, max_speed, average_of_vehicle):\n",
    "            self.name_of_vehicle = name_of_vehicle\n",
    "            self.max_speed = max_speed\n",
    "            self.average_of_vehicle = average_of_vehicle\n",
    "            \n",
    "car = Vehicle(\"Car\", 180, 20)\n",
    "print(\"Name of vehicle:\", car.name_of_vehicle)\n",
    "print(\"Max speed:\", car.max_speed)\n",
    "print(\"Average of vehicle:\", car.average_of_vehicle)"
   ]
  },
  {
   "cell_type": "markdown",
   "id": "2cbecc31",
   "metadata": {},
   "source": [
    "Q2. Create a child class car from the vehicle class created in Que 1, which will inherit the vehicle class.\n",
    "Create a method named seating_capacity which takes capacity as an argument and returns the name of\n",
    "the vehicle and its seating capacity."
   ]
  },
  {
   "cell_type": "code",
   "execution_count": 52,
   "id": "e9f191d5",
   "metadata": {},
   "outputs": [],
   "source": [
    "'''class car(Vehicle):\n",
    "    def __init__(self,name_of_vehicle, max_speed, average_of_vehicle,capacity):\n",
    "        super().__init__(name_of_vehicle,max_speed,average_of_vehicle)\n",
    "        self.capacity=capacity\n",
    "    \n",
    "    def seating_capacity(self):\n",
    "        return self.name_of_vehicle, self.capacity'''\n",
    "\n",
    "class car(Vehicle):\n",
    "    def __init__(self, name_of_vehicle, max_speed,average_of_vehicle,capacity):\n",
    "        super().__init__(name_of_vehicle, max_speed, average_of_vehicle)\n",
    "        self.capacity=capacity\n",
    "    def seating_capacity(self, capacity):\n",
    "        return f\"The seating capacity of a {self.name_of_vehicle} is {capacity} passengers\"\n",
    "    "
   ]
  },
  {
   "cell_type": "code",
   "execution_count": 53,
   "id": "9724f279",
   "metadata": {},
   "outputs": [],
   "source": [
    "car_obj=car(\"BMW\",300,100,4)"
   ]
  },
  {
   "cell_type": "code",
   "execution_count": 54,
   "id": "fd5d2124",
   "metadata": {},
   "outputs": [
    {
     "data": {
      "text/plain": [
       "'The seating capacity of a BMW is 5 passengers'"
      ]
     },
     "execution_count": 54,
     "metadata": {},
     "output_type": "execute_result"
    }
   ],
   "source": [
    "car_obj.seating_capacity(5)"
   ]
  },
  {
   "cell_type": "markdown",
   "id": "549bd674",
   "metadata": {},
   "source": [
    "Q3. What is multiple inheritance? Write a python code to demonstrate multiple inheritance."
   ]
  },
  {
   "cell_type": "markdown",
   "id": "28b6dbfe",
   "metadata": {},
   "source": [
    "if a child class inherits from more than one class, i.e. this child class is derived from multiple classes, we call it multiple inheritance in Python. This newly derived child class will inherit the properties of all the classes that it is derived from. A very simple real life example would be the one discussed above - a child inheriting properties of the father and mother."
   ]
  },
  {
   "cell_type": "code",
   "execution_count": 30,
   "id": "e3572bf5",
   "metadata": {},
   "outputs": [
    {
     "name": "stdout",
     "output_type": "stream",
     "text": [
      "Dad sings well\n",
      "Mom codes well\n",
      "Kid loves to play\n"
     ]
    }
   ],
   "source": [
    "# creating class for father\n",
    "class Dad():\n",
    "# writing a method for parent class 1\n",
    "    def singing(self):\n",
    "        print(\"Dad sings well\")\n",
    "# creating a class for mother\n",
    "class Mom():\n",
    "# method for parent class 2\n",
    "    def coding(self):\n",
    "        print(\"Mom codes well\")\n",
    "\n",
    "# creating derived class\n",
    "class Child(Dad, Mom):\n",
    "    def playing(self):\n",
    "        print(\"Kid loves to play\")\n",
    "\n",
    "# creating object of the new derived class\n",
    "child = Child()\n",
    "# calling methods of parent classes and derived class\n",
    "child.singing()\n",
    "child.coding()\n",
    "child.playing()\n"
   ]
  },
  {
   "cell_type": "markdown",
   "id": "aef4de87",
   "metadata": {},
   "source": [
    "As we can see in the output, the child class that was derived from Dad() and Mom() classes have the properties of both the parent / base classes."
   ]
  },
  {
   "cell_type": "markdown",
   "id": "66898d5a",
   "metadata": {},
   "source": [
    "Q4. What are getter and setter in python? Create a class and create a getter and a setter method in this\n",
    "class."
   ]
  },
  {
   "cell_type": "code",
   "execution_count": null,
   "id": "72f0e385",
   "metadata": {},
   "outputs": [],
   "source": [
    "1. Getter and setter are methods that allows you to access and modify the values of the private attributes of a class.\n",
    "2. They provides a way to control access of the object's properties, ensuring that the properties are accessed or modified in a \n",
    "   controlled and consistent way.\n",
    "3. In python,you can define getter and setter methods using the '@property' and '@<property_name>.setter' decorators,\n",
    "   respectively.\n",
    "\n",
    "for example:"
   ]
  },
  {
   "cell_type": "code",
   "execution_count": 33,
   "id": "5b90cc14",
   "metadata": {},
   "outputs": [
    {
     "name": "stdout",
     "output_type": "stream",
     "text": [
      "setter method called\n",
      "getter method called\n",
      "19\n"
     ]
    }
   ],
   "source": [
    "class shivam:\n",
    "    def __init__(self):\n",
    "        self._age = 0\n",
    "    @property\n",
    "    def age(self):\n",
    "        print(\"getter method called\")\n",
    "        return self._age\n",
    "    @age.setter\n",
    "    def age(self, a):\n",
    "        if(a < 18):\n",
    "            raise ValueError(\"Sorry you age is below eligibility criteria\")\n",
    "        print(\"setter method called\")\n",
    "        self._age = a\n",
    "\n",
    "mark = shivam()\n",
    "\n",
    "mark.age = 19\n",
    "\n",
    "print(mark.age)\n"
   ]
  },
  {
   "cell_type": "markdown",
   "id": "fed199dd",
   "metadata": {},
   "source": [
    "Q5.What is method overriding in python? Write a python code to demonstrate method overriding."
   ]
  },
  {
   "cell_type": "code",
   "execution_count": null,
   "id": "19757fa8",
   "metadata": {},
   "outputs": [],
   "source": [
    "Method overriding is a feature of object-oriented programming languages where a subclass can provide a new implementation of a \n",
    "method that is already defined in its parent class. The new implementation in the subclass will override the behaviour of the \n",
    "method in the parent class. This allows a subclass to inherits the attributes and methods of its parent class. \n",
    "This aalows a subclass to inherits the zttributes and methods of its parent class and then customize their behaviour as needed.\n",
    "    \n",
    "for example-"
   ]
  },
  {
   "cell_type": "code",
   "execution_count": 36,
   "id": "093fcd60",
   "metadata": {},
   "outputs": [],
   "source": [
    "class Shape:\n",
    "    def area(self):\n",
    "        pass\n",
    "                    \n",
    "class Rectangle(Shape):\n",
    "    def __init__(self, width, height):\n",
    "        self.width = width\n",
    "        self.height = height\n",
    "                        \n",
    "    def area(self):\n",
    "        return self.width * self.height\n",
    "                \n",
    "class Circle(Shape):\n",
    "    def __init__(self, radius):\n",
    "        self.radius = radius\n",
    "                        \n",
    "    def area(self):\n",
    "        return 3.14 * self.radius * self.radius\n",
    "                    \n",
    "                    "
   ]
  },
  {
   "cell_type": "code",
   "execution_count": 37,
   "id": "fd0a82e2",
   "metadata": {},
   "outputs": [
    {
     "name": "stdout",
     "output_type": "stream",
     "text": [
      "Area of Rectangle: 200\n"
     ]
    }
   ],
   "source": [
    "rect = Rectangle(10, 20)\n",
    "print(\"Area of Rectangle:\", rect.area())\n",
    "                    \n",
    "                    "
   ]
  },
  {
   "cell_type": "code",
   "execution_count": 38,
   "id": "3df90b4b",
   "metadata": {},
   "outputs": [
    {
     "name": "stdout",
     "output_type": "stream",
     "text": [
      "Area of Circle: 78.5\n"
     ]
    }
   ],
   "source": [
    "circle = Circle(5)\n",
    "print(\"Area of Circle:\", circle.area())"
   ]
  },
  {
   "cell_type": "markdown",
   "id": "9d2c7583",
   "metadata": {},
   "source": [
    "# Name:Shivam Tyagi"
   ]
  },
  {
   "cell_type": "markdown",
   "id": "080c8ca9",
   "metadata": {},
   "source": [
    "# E-mail:shivam1612tyagi@gmail.com"
   ]
  },
  {
   "cell_type": "markdown",
   "id": "77806e11",
   "metadata": {},
   "source": [
    "# Thank you!!"
   ]
  },
  {
   "cell_type": "code",
   "execution_count": null,
   "id": "b38b21e9",
   "metadata": {},
   "outputs": [],
   "source": []
  }
 ],
 "metadata": {
  "kernelspec": {
   "display_name": "Python 3 (ipykernel)",
   "language": "python",
   "name": "python3"
  },
  "language_info": {
   "codemirror_mode": {
    "name": "ipython",
    "version": 3
   },
   "file_extension": ".py",
   "mimetype": "text/x-python",
   "name": "python",
   "nbconvert_exporter": "python",
   "pygments_lexer": "ipython3",
   "version": "3.9.7"
  }
 },
 "nbformat": 4,
 "nbformat_minor": 5
}
